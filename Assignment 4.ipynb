{
 "cells": [
  {
   "cell_type": "markdown",
   "id": "d117b78d",
   "metadata": {},
   "source": [
    "## 1. What exactly is []?\n",
    "\n",
    "---> This [] square brackets called empty list which does not contain any elements"
   ]
  },
  {
   "cell_type": "markdown",
   "id": "5a79fbd7",
   "metadata": {},
   "source": [
    "## 2. In a list of values stored in a variable called spam, how would you assign the value 'hello' as the third value? (Assume [2, 4, 6, 8, 10] are in spam.) Lets pretend the spam includes the list ['a','b','c','d'] for the next three quries.\n",
    "\n",
    "---> By spam[] = \"hello\" while brackets contains the number where we have to place the element. i.e position-1(Because list starts from 0)"
   ]
  },
  {
   "cell_type": "code",
   "execution_count": 1,
   "id": "9a76dd35",
   "metadata": {},
   "outputs": [
    {
     "name": "stdout",
     "output_type": "stream",
     "text": [
      "Original list is : [2, 4, 6, 8, 10]\n",
      "New list is : [2, 4, 'hello', 8, 10]\n"
     ]
    }
   ],
   "source": [
    "spam = [2,4,6,8,10]\n",
    "print(f\"Original list is : {spam}\")\n",
    "spam[2] = \"hello\"\n",
    "print(f\"New list is : {spam}\")"
   ]
  },
  {
   "cell_type": "markdown",
   "id": "958937bb",
   "metadata": {},
   "source": [
    "### Let's pretend the spam includes the list ['a','b','c','d'] for the next three queries."
   ]
  },
  {
   "cell_type": "markdown",
   "id": "5043f8ba",
   "metadata": {},
   "source": [
    "## 3. What is the value of spam[int(int(&#39;3&#39; * 2) / 11)]?"
   ]
  },
  {
   "cell_type": "code",
   "execution_count": 2,
   "id": "f5765e10",
   "metadata": {},
   "outputs": [
    {
     "name": "stdout",
     "output_type": "stream",
     "text": [
      "d\n"
     ]
    }
   ],
   "source": [
    "spam = ['a','b','c','d']\n",
    "a = spam[int(int('3'*2)//11)]        \n",
    "print(a) "
   ]
  },
  {
   "cell_type": "markdown",
   "id": "6534423c",
   "metadata": {},
   "source": [
    "## 4. What is the value of spam[-1]?"
   ]
  },
  {
   "cell_type": "code",
   "execution_count": 3,
   "id": "1aabbb9a",
   "metadata": {},
   "outputs": [
    {
     "name": "stdout",
     "output_type": "stream",
     "text": [
      "d\n"
     ]
    }
   ],
   "source": [
    "spam = ['a','b','c','d']\n",
    "print(spam[-1])"
   ]
  },
  {
   "cell_type": "markdown",
   "id": "816ced0a",
   "metadata": {},
   "source": [
    "## 5. What is the value of spam[:2]?"
   ]
  },
  {
   "cell_type": "code",
   "execution_count": 4,
   "id": "e4359e7d",
   "metadata": {},
   "outputs": [
    {
     "name": "stdout",
     "output_type": "stream",
     "text": [
      "['a', 'b']\n"
     ]
    }
   ],
   "source": [
    "spam = ['a','b','c','d']\n",
    "print(spam[:2])"
   ]
  },
  {
   "cell_type": "markdown",
   "id": "4bad34f2",
   "metadata": {},
   "source": [
    "### Let's pretend bacon has the list [3.14,'cat',11,'cat',True] for the next three question"
   ]
  },
  {
   "cell_type": "markdown",
   "id": "bbfdbf42",
   "metadata": {},
   "source": [
    "## 6. What is the value of bacon.index('cat')? "
   ]
  },
  {
   "cell_type": "code",
   "execution_count": 5,
   "id": "4c73bc12",
   "metadata": {},
   "outputs": [
    {
     "name": "stdout",
     "output_type": "stream",
     "text": [
      "1\n"
     ]
    }
   ],
   "source": [
    "bacon = [3.14,'cat',11,'cat',True]\n",
    "print(bacon.index('cat'))"
   ]
  },
  {
   "cell_type": "markdown",
   "id": "94e2557a",
   "metadata": {},
   "source": [
    "## 7. How does bacon.append(99) change the look of the list value in bacon?\n",
    "\n",
    "---> bacon.append(99) can insert the number 99 at the last of the list"
   ]
  },
  {
   "cell_type": "code",
   "execution_count": 6,
   "id": "51fce771",
   "metadata": {},
   "outputs": [
    {
     "name": "stdout",
     "output_type": "stream",
     "text": [
      "[3.14, 'cat', 11, 'cat', True]\n",
      "[3.14, 'cat', 11, 'cat', True, 99]\n"
     ]
    }
   ],
   "source": [
    "bacon = [3.14,'cat',11,'cat',True]\n",
    "print(bacon)\n",
    "bacon.append(99)\n",
    "print(bacon)"
   ]
  },
  {
   "cell_type": "markdown",
   "id": "3d55a8cf",
   "metadata": {},
   "source": [
    "## 8. How does bacon.remove('cat') change the look of the list in bacon?\n",
    "\n",
    "---> remove function Remove the first elemet from the list"
   ]
  },
  {
   "cell_type": "code",
   "execution_count": 7,
   "id": "33a83923",
   "metadata": {},
   "outputs": [
    {
     "name": "stdout",
     "output_type": "stream",
     "text": [
      "[3.14, 'cat', 11, 'cat', True]\n",
      "[3.14, 11, 'cat', True]\n"
     ]
    }
   ],
   "source": [
    "bacon = [3.14,'cat',11,'cat',True]\n",
    "print(bacon)\n",
    "bacon.remove('cat')\n",
    "print(bacon)"
   ]
  },
  {
   "cell_type": "markdown",
   "id": "cc1acf92",
   "metadata": {},
   "source": [
    "## 9.what are the list concatenation and list replication operations?\n",
    "\n",
    "---> In list concatination, we can combine two list using \"+\" operator\n",
    "\n",
    "---> In list replication , we can replicate the elements in the list using \" * \" operator"
   ]
  },
  {
   "cell_type": "code",
   "execution_count": 8,
   "id": "d06b15b4",
   "metadata": {},
   "outputs": [
    {
     "name": "stdout",
     "output_type": "stream",
     "text": [
      "Concatination : [10, 20, 30, 40, 50, 60]\n",
      "Replication : [10, 20, 30, 10, 20, 30, 10, 20, 30]\n"
     ]
    }
   ],
   "source": [
    "list1 = [10,20,30]\n",
    "list2 = [40,50,60]\n",
    "con_list = list1 + list2\n",
    "print(f\"Concatination : {con_list}\")\n",
    "repl_list = list1*3\n",
    "print(f\"Replication : {repl_list}\")"
   ]
  },
  {
   "cell_type": "markdown",
   "id": "a108a01a",
   "metadata": {},
   "source": [
    "## 10.what is the difference between the list method append() and insert()?\n",
    "\n",
    "---> append() takes exactly one argument i.e element and it place them at the last position\n",
    "\n",
    "---> insert() takes two arguments first for position and second for the element which to be insert"
   ]
  },
  {
   "cell_type": "code",
   "execution_count": 9,
   "id": "7c1e4ca7",
   "metadata": {},
   "outputs": [
    {
     "name": "stdout",
     "output_type": "stream",
     "text": [
      "[1, 2, 3, 4, 5, 6]\n"
     ]
    }
   ],
   "source": [
    "mylist = [1,2,3,4,5]\n",
    "mylist.append(6)\n",
    "print(mylist)"
   ]
  },
  {
   "cell_type": "code",
   "execution_count": 10,
   "id": "d5105db5",
   "metadata": {},
   "outputs": [
    {
     "name": "stdout",
     "output_type": "stream",
     "text": [
      "[1, 2, 10, 3, 4, 5]\n"
     ]
    }
   ],
   "source": [
    "mylist = [1,2,3,4,5]\n",
    "mylist.insert(2,10)\n",
    "print(mylist)"
   ]
  },
  {
   "cell_type": "markdown",
   "id": "30b296e6",
   "metadata": {},
   "source": [
    "## 11. What are the two methods for removing items from a list?\n",
    "\n",
    "---> del statement and remove() method is basically used to removing items from the list"
   ]
  },
  {
   "cell_type": "code",
   "execution_count": 11,
   "id": "68c231b5",
   "metadata": {},
   "outputs": [
    {
     "name": "stdout",
     "output_type": "stream",
     "text": [
      "[1, 2, 4, 5]\n"
     ]
    }
   ],
   "source": [
    "list1 = [1,2,3,4,5]\n",
    "list1.remove(3)   # Taking element which to be removed\n",
    "print(list1)"
   ]
  },
  {
   "cell_type": "code",
   "execution_count": 12,
   "id": "89c81175",
   "metadata": {},
   "outputs": [
    {
     "name": "stdout",
     "output_type": "stream",
     "text": [
      "[1, 2, 4, 5]\n"
     ]
    }
   ],
   "source": [
    "list1 = [1,2,3,4,5]\n",
    "del list1[2]     # Taking position of element which to be removed\n",
    "print(list1)"
   ]
  },
  {
   "cell_type": "markdown",
   "id": "6e7a6704",
   "metadata": {},
   "source": [
    "## 12. Describe how list values and string values are identical.\n",
    "\n",
    "---> We can access both the list and string values by indices. We can also use the len() function to access the length.\n",
    "we also search the elements by traversing them."
   ]
  },
  {
   "cell_type": "markdown",
   "id": "5ec210ab",
   "metadata": {},
   "source": [
    "## 13. What's the difference between tuples and lists?\n",
    "\n",
    "---> tuples are repesent by the pranthesis () where lists are represent by Square brackets []\n",
    "\n",
    "---> tuples are immutable(Value can't be modified) where lists are mutable(Value can be change)"
   ]
  },
  {
   "cell_type": "markdown",
   "id": "02e68144",
   "metadata": {},
   "source": [
    "## 14. How do you type a tuple value that only contains the integer 42?"
   ]
  },
  {
   "cell_type": "code",
   "execution_count": 13,
   "id": "1cecb731",
   "metadata": {},
   "outputs": [
    {
     "name": "stdout",
     "output_type": "stream",
     "text": [
      "Tuple is : (42,)\n",
      "<class 'tuple'>\n"
     ]
    }
   ],
   "source": [
    "tup = (42,)\n",
    "print(f\"Tuple is : {tup}\")\n",
    "print(type(tup))"
   ]
  },
  {
   "cell_type": "markdown",
   "id": "d4ae1c6e",
   "metadata": {},
   "source": [
    "## 15. How do you get a list value's tuple form? How do you get a tuple value's list form?\n",
    "\n",
    "---> For tuple to list, we use list() and from list to tuple we use tuple()"
   ]
  },
  {
   "cell_type": "code",
   "execution_count": 14,
   "id": "1d7d5d2c",
   "metadata": {},
   "outputs": [
    {
     "name": "stdout",
     "output_type": "stream",
     "text": [
      "tuple is : (1, 2, 3, 4, 5)\n",
      "tuple to list is : [1, 2, 3, 4, 5]\n"
     ]
    }
   ],
   "source": [
    "tup = (1,2,3,4,5)\n",
    "list1 = list(tup)\n",
    "print(f\"tuple is : {tup}\")\n",
    "print(f\"tuple to list is : {list1}\")"
   ]
  },
  {
   "cell_type": "code",
   "execution_count": 15,
   "id": "ab02bcd3",
   "metadata": {},
   "outputs": [
    {
     "name": "stdout",
     "output_type": "stream",
     "text": [
      "List is : [10, 20, 30, 40, 50]\n",
      "List to tuple is : (10, 20, 30, 40, 50)\n"
     ]
    }
   ],
   "source": [
    "list2 = [10,20,30,40,50]\n",
    "tup1 = tuple(list2)\n",
    "print(f\"List is : {list2}\")\n",
    "print(f\"List to tuple is : {tup1}\")"
   ]
  },
  {
   "cell_type": "markdown",
   "id": "7f97d2f8",
   "metadata": {},
   "source": [
    "## 16. Variables that \"contain\" list values are not necessarily lists themselves. Instead, what do they contain?\n",
    "\n",
    "---> they contain references to list values"
   ]
  },
  {
   "cell_type": "markdown",
   "id": "b29eadba",
   "metadata": {},
   "source": [
    "## 17. How do you distinguish between copy.copy() and copy.deepcopy()?\n",
    "\n",
    "---> The copy.copy() function make a shallow copy of a list\n",
    "\n",
    "---> copy.deepcopy() function will make a deep copy of a list"
   ]
  }
 ],
 "metadata": {
  "kernelspec": {
   "display_name": "Python 3 (ipykernel)",
   "language": "python",
   "name": "python3"
  },
  "language_info": {
   "codemirror_mode": {
    "name": "ipython",
    "version": 3
   },
   "file_extension": ".py",
   "mimetype": "text/x-python",
   "name": "python",
   "nbconvert_exporter": "python",
   "pygments_lexer": "ipython3",
   "version": "3.9.13"
  }
 },
 "nbformat": 4,
 "nbformat_minor": 5
}
