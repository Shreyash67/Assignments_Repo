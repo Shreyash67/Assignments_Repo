{
 "cells": [
  {
   "cell_type": "markdown",
   "id": "68a3a6ca",
   "metadata": {},
   "source": [
    "### 1. What is the primary goal of Object-Oriented Programming (OOP)?\n",
    "\n",
    "---> The main purpose of OOPS is to make programming easier by breaking down the complex codes.\n",
    "\n",
    "---> OOP can allows the programmer to making an objects which can interact with each other so that our\n",
    "code will me more flexible and reusable."
   ]
  },
  {
   "cell_type": "markdown",
   "id": "a6f7006a",
   "metadata": {},
   "source": [
    "### 2. What is an object in Python?\n",
    "\n",
    "---> In Python in OOPS by using object we can create a blue print of a class\n",
    "\n",
    "---> By using object we can call the methods which are present in a class"
   ]
  },
  {
   "cell_type": "code",
   "execution_count": 1,
   "id": "68cf2718",
   "metadata": {},
   "outputs": [
    {
     "name": "stdout",
     "output_type": "stream",
     "text": [
      "My name is Ramesh and my age is 20\n"
     ]
    }
   ],
   "source": [
    "class Person:\n",
    "    def __init__(self,name,age):\n",
    "        self.name=name\n",
    "        self.age=age\n",
    "        \n",
    "    def info(self):\n",
    "        print(f\"My name is {self.name} and my age is {self.age}\")\n",
    "        \n",
    "person1 = Person(\"Ramesh\",20)  # Here person1 is an object\n",
    "person1.info()  # Here we can call the method of class using object "
   ]
  },
  {
   "cell_type": "markdown",
   "id": "5e9bf989",
   "metadata": {},
   "source": [
    "### 3. What is a class in Python?\n",
    "\n",
    "---> Class is nothing but the blueprint for creating an object\n",
    "\n",
    "---> Class includes constructor, methods etc \n",
    "\n",
    "---> eg: If we create class Dog, then the constructor can take arguments as their name and age.also by method, \n",
    "we can add many this like there sound etc and these whole blue print is assign to an object and we can call them by\n",
    "using object"
   ]
  },
  {
   "cell_type": "markdown",
   "id": "581c7da4",
   "metadata": {},
   "source": [
    "### 4. What are attributes and methods in a class?\n",
    "\n",
    "Attributes : Attributes are the properties of object. attributes include properties like name,age,salary etc\n",
    "\n",
    "Methods : Methods are the function which are located in tha class.with the help method we can define some operations on\n",
    "objects"
   ]
  },
  {
   "cell_type": "markdown",
   "id": "8e65e220",
   "metadata": {},
   "source": [
    "### 5. What is the difference between class variables and instance variables in Python?\n",
    "\n",
    "---> class variable are define at the top of class but outside the method, it is also accessible by instance of the class\n",
    "\n",
    "---> Instance variables are define in class methods and prefix with self keyword, we also access it by instance name with dot operator eg: person1.name "
   ]
  },
  {
   "cell_type": "code",
   "execution_count": 2,
   "id": "e24f2a18",
   "metadata": {},
   "outputs": [
    {
     "name": "stdout",
     "output_type": "stream",
     "text": [
      "15\n",
      "shreyash\n"
     ]
    }
   ],
   "source": [
    "class Person:\n",
    "    age = 15  # Class variables\n",
    "    def __init__(self,name):\n",
    "        self.name=name     # Instance variables\n",
    "        \n",
    "person1 = Person(\"shreyash\")  \n",
    "print(person1.age)   #Accessing class variable\n",
    "print(person1.name)  #Accessing instance variable"
   ]
  },
  {
   "cell_type": "markdown",
   "id": "cefa5338",
   "metadata": {},
   "source": [
    "### 6. What is the purpose of the self parameter in Python class methods?\n",
    "\n",
    "---> self parameters are basically used to refer the instance of class\n",
    "\n",
    "---> because of self parameter we also access the attribute and methods as well\n",
    "\n",
    "eg: self.attribute_name, self.method_name()"
   ]
  },
  {
   "cell_type": "markdown",
   "id": "f657d052",
   "metadata": {},
   "source": [
    "### 7. For a library management system, you have to design the \"Book\" class with OOP principles in mind. The “Book” class will have following attributes:\n",
    "\n",
    "a. title: Represents the title of the book.\n",
    "\n",
    "b. author: Represents the author(s) of the book.\n",
    "\n",
    "c. isbn: Represents the ISBN (International Standard Book Number) of the book.\n",
    "\n",
    "d. publication_year: Represents the year of publication of the book.\n",
    "\n",
    "e. available_copies: Represents the number of copies available for checkout.\n",
    "\n",
    "The class will also include the following methods:\n",
    "\n",
    "a. check_out(self): Decrements the available copies by one if there are copies\n",
    "available for checkout.\n",
    "\n",
    "b. return_book(self): Increments the available copies by one when a book is\n",
    "returned.\n",
    "\n",
    "c. display_book_info(self): Displays the information about the book, including its\n",
    "attributes and the number of available copies."
   ]
  },
  {
   "cell_type": "code",
   "execution_count": 3,
   "id": "4e8c9220",
   "metadata": {},
   "outputs": [],
   "source": [
    "class Book:\n",
    "    def __init__(self,title,author,isbn,publication_year,available_copies):\n",
    "        self.title=title\n",
    "        self.author=author\n",
    "        self.isbn=isbn\n",
    "        self.publication_year=publication_year\n",
    "        self.available_copies=available_copies\n",
    "        \n",
    "    def check_out(self):\n",
    "        if self.available_copies>0:\n",
    "            self.available_copies=self.available_copies-1\n",
    "            print(f\"Book {self.title} is checkout successfully!\")\n",
    "        else:\n",
    "            print(f\"Sorry, {self.title} book is not currently available\")\n",
    "            \n",
    "    def return_book(self):\n",
    "        self.available_copies=self.available_copies+1\n",
    "        print(f\"{self.title} is returned successfully!\")\n",
    "        \n",
    "    def display_book(self):\n",
    "        print(f\"Title : {self.title}\")\n",
    "        print(f\"Author name : {self.author}\")\n",
    "        print(f\"ISBN : {self.isbn}\")\n",
    "        print(f\"Publication year : {self.publication_year}\")\n",
    "        print(f\"Available copies : {self.available_copies}\")\n",
    "        \n",
    "book1=Book(\"Wings of fire\",\"Dr. A.P.J Abdul kalam sir\",\"988-4-16-146480-0\",1995,3)"
   ]
  },
  {
   "cell_type": "code",
   "execution_count": 4,
   "id": "162170c1",
   "metadata": {},
   "outputs": [
    {
     "name": "stdout",
     "output_type": "stream",
     "text": [
      "Title : Wings of fire\n",
      "Author name : Dr. A.P.J Abdul kalam sir\n",
      "ISBN : 988-4-16-146480-0\n",
      "Publication year : 1995\n",
      "Available copies : 3\n"
     ]
    }
   ],
   "source": [
    "book1.display_book()"
   ]
  },
  {
   "cell_type": "code",
   "execution_count": 5,
   "id": "08ae3dba",
   "metadata": {},
   "outputs": [
    {
     "name": "stdout",
     "output_type": "stream",
     "text": [
      "Book Wings of fire is checkout successfully!\n"
     ]
    }
   ],
   "source": [
    "book1.check_out()"
   ]
  },
  {
   "cell_type": "code",
   "execution_count": 6,
   "id": "89a13e98",
   "metadata": {},
   "outputs": [
    {
     "name": "stdout",
     "output_type": "stream",
     "text": [
      "Title : Wings of fire\n",
      "Author name : Dr. A.P.J Abdul kalam sir\n",
      "ISBN : 988-4-16-146480-0\n",
      "Publication year : 1995\n",
      "Available copies : 2\n"
     ]
    }
   ],
   "source": [
    "book1.display_book()"
   ]
  },
  {
   "cell_type": "code",
   "execution_count": 7,
   "id": "7edf6c2a",
   "metadata": {},
   "outputs": [
    {
     "name": "stdout",
     "output_type": "stream",
     "text": [
      "Wings of fire is returned successfully!\n"
     ]
    }
   ],
   "source": [
    "book1.return_book()"
   ]
  },
  {
   "cell_type": "markdown",
   "id": "68623f32",
   "metadata": {},
   "source": [
    "### 8. For a ticket booking system, you have to design the \"Ticket\" class with OOP principles in mind. The “Ticket” class should have the following attributes:\n",
    "    \n",
    "a. ticket_id: Represents the unique identifier for the ticket.\n",
    "\n",
    "b. event_name: Represents the name of the event.\n",
    "\n",
    "c. event_date: Represents the date of the event.\n",
    "\n",
    "d. venue: Represents the venue of the event.\n",
    "\n",
    "e. seat_number: Represents the seat number associated with the ticket.\n",
    "\n",
    "f. price: Represents the price of the ticket.\n",
    "\n",
    "g. is_reserved: Represents the reservation status of the ticket.\n",
    "\n",
    "The class also includes the following methods:\n",
    "\n",
    "a. reserve_ticket(self): Marks the ticket as reserved if it is not already reserved.\n",
    "\n",
    "b. cancel_reservation(self): Cancels the reservation of the ticket if it is already\n",
    "reserved.\n",
    "\n",
    "c. display_ticket_info(self): Displays the information about the ticket, including its\n",
    "attributes and reservation status."
   ]
  },
  {
   "cell_type": "code",
   "execution_count": 8,
   "id": "f3dc9edf",
   "metadata": {},
   "outputs": [],
   "source": [
    "class Ticket:\n",
    "    def __init__(self, ticket_id,event_name,event_date,venue,seat_number,price):\n",
    "        self.ticket_id=ticket_id\n",
    "        self.event_name=event_name\n",
    "        self.event_date=event_date\n",
    "        self.venue=venue\n",
    "        self.seat_number=seat_number\n",
    "        self.price=price\n",
    "        self.is_reserved=False\n",
    "        \n",
    "    def reserve_ticket(self):\n",
    "        if not self.is_reserved:\n",
    "            self.is_reserved=True\n",
    "            print(\"Ticket reserved Successfully!\")\n",
    "        else:\n",
    "            print(\"Ticket is allready reserved!\")\n",
    "            \n",
    "    def cancel_reservation(self):\n",
    "        if self.is_reserved:\n",
    "            self.is_reserved=False\n",
    "            print(\"Reservation cancel successfully!\")\n",
    "        else:\n",
    "            print(\"Ticket is not reserved yet!\")\n",
    "            \n",
    "    def display_ticket_info(self):\n",
    "        print(f\"Ticket ID : {self.ticket_id}\")\n",
    "        print(f\"Event name : {self.event_name}\")\n",
    "        print(f\"Event date : {self.event_date}\")\n",
    "        print(f\"Venue : {self.venue}\")\n",
    "        print(f\"Seat No : {self.seat_number}\")\n",
    "        print(f\"Price : {self.price}\")\n",
    "        print(\"Reservation status : Reserved!\" if self.is_reserved else \"Reservation status : Not Reserved!\")\n",
    "\n",
    "ticket1 = Ticket(\"E1056\",\"Seminar\",\"07/07/2023\",\"Den Auditorium\",\"A12\",100)            "
   ]
  },
  {
   "cell_type": "code",
   "execution_count": 9,
   "id": "45e44907",
   "metadata": {},
   "outputs": [
    {
     "name": "stdout",
     "output_type": "stream",
     "text": [
      "Ticket ID : E1056\n",
      "Event name : Seminar\n",
      "Event date : 07/07/2023\n",
      "Venue : Den Auditorium\n",
      "Seat No : A12\n",
      "Price : 100\n",
      "Reservation status : Not Reserved!\n"
     ]
    }
   ],
   "source": [
    "ticket1.display_ticket_info()"
   ]
  },
  {
   "cell_type": "code",
   "execution_count": 10,
   "id": "ddeb7ab8",
   "metadata": {},
   "outputs": [
    {
     "name": "stdout",
     "output_type": "stream",
     "text": [
      "Ticket reserved Successfully!\n"
     ]
    }
   ],
   "source": [
    "ticket1.reserve_ticket()"
   ]
  },
  {
   "cell_type": "code",
   "execution_count": 11,
   "id": "4d19a083",
   "metadata": {},
   "outputs": [
    {
     "name": "stdout",
     "output_type": "stream",
     "text": [
      "Reservation cancel successfully!\n"
     ]
    }
   ],
   "source": [
    "ticket1.cancel_reservation()"
   ]
  },
  {
   "cell_type": "markdown",
   "id": "9a9445bf",
   "metadata": {},
   "source": [
    "### 9. You are creating a shopping cart for an e-commerce website. Using OOP to model the \"ShoppingCart\" functionality the class should contain following attributes and methods:\n",
    "\n",
    "a. items: Represents the list of items in the shopping cart.\n",
    "\n",
    "The class also includes the following methods:\n",
    "\n",
    "a. add_item(self, item): Adds an item to the shopping cart by appending it to the\n",
    "list of items.\n",
    "\n",
    "b. remove_item(self, item): Removes an item from the shopping cart if it exists in\n",
    "the list.\n",
    "\n",
    "c. view_cart(self): Displays the items currently present in the shopping cart.\n",
    "\n",
    "d. clear_cart(self): Clears all items from the shopping cart by reassigning an\n",
    "empty list to the items attribute."
   ]
  },
  {
   "cell_type": "code",
   "execution_count": 12,
   "id": "52f6212f",
   "metadata": {},
   "outputs": [],
   "source": [
    "class Shoppingcart:\n",
    "    def __init__(self):\n",
    "        self.items=[]\n",
    "        \n",
    "    def add_items(self,item):\n",
    "        self.items.append(item)\n",
    "        print(\"Item add successfully!\")\n",
    "        \n",
    "    def remove_items(self,item):\n",
    "        if item in self.items:\n",
    "            self.items.remove(item)\n",
    "            print(\"Item remove successfully!\")\n",
    "        else:\n",
    "            print(\"Item is not present in shopping cart\")\n",
    "            \n",
    "    def view_cart(self):\n",
    "        if self.items==[]:\n",
    "            print(\"Shopping cart is empty!\")\n",
    "        else:\n",
    "            print(\"Items present in shopping cart are :\")\n",
    "            print()\n",
    "            for item in self.items:\n",
    "                print(item)\n",
    "    \n",
    "    def clear_cart(self):\n",
    "        self.items.clear()\n",
    "        print(\"Shopping cart is clear now!\")\n",
    "        \n",
    "sc = Shoppingcart()        "
   ]
  },
  {
   "cell_type": "code",
   "execution_count": 13,
   "id": "5ef601c1",
   "metadata": {},
   "outputs": [
    {
     "name": "stdout",
     "output_type": "stream",
     "text": [
      "Item add successfully!\n",
      "Item add successfully!\n",
      "Item add successfully!\n"
     ]
    }
   ],
   "source": [
    "sc.add_items(\"Tv\")\n",
    "sc.add_items(\"Ac\")\n",
    "sc.add_items(\"Washing machine\")"
   ]
  },
  {
   "cell_type": "code",
   "execution_count": 14,
   "id": "de6ac89a",
   "metadata": {},
   "outputs": [
    {
     "name": "stdout",
     "output_type": "stream",
     "text": [
      "Items present in shopping cart are :\n",
      "\n",
      "Tv\n",
      "Ac\n",
      "Washing machine\n"
     ]
    }
   ],
   "source": [
    "sc.view_cart()"
   ]
  },
  {
   "cell_type": "code",
   "execution_count": 15,
   "id": "66fc874e",
   "metadata": {},
   "outputs": [
    {
     "name": "stdout",
     "output_type": "stream",
     "text": [
      "Item remove successfully!\n"
     ]
    }
   ],
   "source": [
    "sc.remove_items(\"Tv\")"
   ]
  },
  {
   "cell_type": "code",
   "execution_count": 16,
   "id": "80ca4fe1",
   "metadata": {},
   "outputs": [
    {
     "name": "stdout",
     "output_type": "stream",
     "text": [
      "Shopping cart is clear now!\n"
     ]
    }
   ],
   "source": [
    "sc.clear_cart()"
   ]
  },
  {
   "cell_type": "code",
   "execution_count": 17,
   "id": "03acca74",
   "metadata": {},
   "outputs": [
    {
     "name": "stdout",
     "output_type": "stream",
     "text": [
      "Shopping cart is empty!\n"
     ]
    }
   ],
   "source": [
    "sc.view_cart()"
   ]
  },
  {
   "cell_type": "markdown",
   "id": "8c150e5d",
   "metadata": {},
   "source": [
    "### 10. Imagine a school management system. You have to design the \"Student\" class using OOP concepts.The “Student” class has the following attributes:\n",
    "\n",
    "a. name: Represents the name of the student.\n",
    "\n",
    "b. age: Represents the age of the student.\n",
    "\n",
    "c. grade: Represents the grade or class of the student.\n",
    "\n",
    "d. student_id: Represents the unique identifier for the student.\n",
    "\n",
    "e. attendance: Represents the attendance record of the student.\n",
    "\n",
    "The class should also include the following methods:\n",
    "\n",
    "a. update_attendance(self, date, status): Updates the attendance record of the\n",
    "student for a given date with the provided status (e.g., present or absent).\n",
    "\n",
    "b. get_attendance(self): Returns the attendance record of the student.\n",
    "\n",
    "c. get_average_attendance(self): Calculates and returns the average\n",
    "attendance percentage of the student based on their attendance record."
   ]
  },
  {
   "cell_type": "code",
   "execution_count": 18,
   "id": "017e5a7e",
   "metadata": {},
   "outputs": [],
   "source": [
    "class Student:\n",
    "    def __init__(self,name,age,grade,student_id):\n",
    "        self.name=name\n",
    "        self.age=age\n",
    "        self.grade=grade\n",
    "        self.student_id=student_id\n",
    "        self.attendence={}\n",
    "        \n",
    "    def update_attendence(self,date,status):\n",
    "        self.attendence[date] = status\n",
    "        \n",
    "    def get_attendence(self):\n",
    "        return self.attendence\n",
    "    \n",
    "    def get_average_attendence(self):\n",
    "        total = len(self.attendence)\n",
    "        list1 = []\n",
    "        for status in self.attendence.values():\n",
    "            if status == \"present\":\n",
    "                list1.append(1)\n",
    "        p_day = sum(list1)\n",
    "        avg = (p_day/total)*100\n",
    "        if total == 0:\n",
    "            return 0\n",
    "        else:\n",
    "            return f\"{avg} %\"        "
   ]
  },
  {
   "cell_type": "code",
   "execution_count": 19,
   "id": "9c498b9c",
   "metadata": {},
   "outputs": [],
   "source": [
    "student1 = Student(\"Raj\",18,\"A\",\"S21\")"
   ]
  },
  {
   "cell_type": "code",
   "execution_count": 20,
   "id": "295887bd",
   "metadata": {},
   "outputs": [],
   "source": [
    "student1.update_attendence(\"12/02/23\",\"present\")\n",
    "student1.update_attendence(\"13/02/23\",\"present\")\n",
    "student1.update_attendence(\"14/02/23\",\"present\")\n",
    "student1.update_attendence(\"15/02/23\",\"absent\")"
   ]
  },
  {
   "cell_type": "code",
   "execution_count": 21,
   "id": "08a11a6f",
   "metadata": {},
   "outputs": [
    {
     "data": {
      "text/plain": [
       "{'12/02/23': 'present',\n",
       " '13/02/23': 'present',\n",
       " '14/02/23': 'present',\n",
       " '15/02/23': 'absent'}"
      ]
     },
     "execution_count": 21,
     "metadata": {},
     "output_type": "execute_result"
    }
   ],
   "source": [
    "student1.get_attendence()"
   ]
  },
  {
   "cell_type": "code",
   "execution_count": 22,
   "id": "0e2ca08a",
   "metadata": {},
   "outputs": [
    {
     "data": {
      "text/plain": [
       "'75.0 %'"
      ]
     },
     "execution_count": 22,
     "metadata": {},
     "output_type": "execute_result"
    }
   ],
   "source": [
    "student1.get_average_attendence()"
   ]
  }
 ],
 "metadata": {
  "kernelspec": {
   "display_name": "Python 3 (ipykernel)",
   "language": "python",
   "name": "python3"
  },
  "language_info": {
   "codemirror_mode": {
    "name": "ipython",
    "version": 3
   },
   "file_extension": ".py",
   "mimetype": "text/x-python",
   "name": "python",
   "nbconvert_exporter": "python",
   "pygments_lexer": "ipython3",
   "version": "3.9.13"
  }
 },
 "nbformat": 4,
 "nbformat_minor": 5
}
