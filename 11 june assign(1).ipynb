{
 "cells": [
  {
   "cell_type": "markdown",
   "id": "09f3d39f",
   "metadata": {},
   "source": [
    "### 1. What is a lambda function in Python, and how does it differ from a regular function?\n",
    "\n",
    "---> Lambda function is basically an anonymous function which means that it does not define like the regular function as def\n",
    "\n",
    "---> Regular function syntax is def function_name(): and then we have to write the code while in lambda function we doesnt write any syntax of regular function but the lambda function is not used in complex code programs"
   ]
  },
  {
   "cell_type": "markdown",
   "id": "35943409",
   "metadata": {},
   "source": [
    "### 2. Can a lambda function in Python have multiple arguments? If yes, how can you define and use them?\n",
    "\n",
    "---> Yes lambda function in Python have multiple arguments."
   ]
  },
  {
   "cell_type": "code",
   "execution_count": 1,
   "id": "b38a2829",
   "metadata": {},
   "outputs": [
    {
     "name": "stdout",
     "output_type": "stream",
     "text": [
      "6\n"
     ]
    }
   ],
   "source": [
    "mul = lambda x,y,z : x+y+z\n",
    "print(mul(1,2,3))"
   ]
  },
  {
   "cell_type": "markdown",
   "id": "bfe1d176",
   "metadata": {},
   "source": [
    "### 3. How are lambda functions typically used in Python? Provide an example use case.\n",
    "\n",
    "---> Basically the lambda function is anonmyous function which mean that it does define using the def keyword\n",
    "\n",
    "---> lambda function is not used in complex programming we use the lambda function for the small task"
   ]
  },
  {
   "cell_type": "code",
   "execution_count": 2,
   "id": "6f3319e2",
   "metadata": {},
   "outputs": [
    {
     "name": "stdout",
     "output_type": "stream",
     "text": [
      "[1, 4, 9, 16, 25]\n"
     ]
    }
   ],
   "source": [
    "numbers = [1,2,3,4,5]\n",
    "sq = list(map(lambda x : x**2 , numbers))\n",
    "print(sq)"
   ]
  },
  {
   "cell_type": "code",
   "execution_count": 3,
   "id": "840c9669",
   "metadata": {},
   "outputs": [
    {
     "name": "stdout",
     "output_type": "stream",
     "text": [
      "[('Siddesh', 39), ('Riddesh', 67), ('Shreyash', 76), ('Yashraj', 79)]\n"
     ]
    }
   ],
   "source": [
    "dict1 = {\n",
    "    \"Shreyash\":76,\n",
    "    \"Riddesh\":67,\n",
    "    \"Siddesh\":39,\n",
    "    \"Yashraj\":79\n",
    "}\n",
    "sorted_dict = sorted(dict1.items(),key=lambda x : x[1])\n",
    "print(sorted_dict)"
   ]
  },
  {
   "cell_type": "markdown",
   "id": "035e69f7",
   "metadata": {},
   "source": [
    "### 4. What are the advantages and limitations of lambda functions compared to regular functions in Python?\n",
    "\n",
    "---> Advantages of lambda function : It can reduce the length of code \n",
    "\n",
    "---> Disadvantages of lambda function : It doesn't use in complex program, It quite difficult to understand rather\n",
    "than the regular code"
   ]
  },
  {
   "cell_type": "markdown",
   "id": "ebc906a0",
   "metadata": {},
   "source": [
    "### 5. Are lambda functions in Python able to access variables defined outside of their own scope? Explain with an example.\n",
    "\n",
    "---> Yes, lambda functions in Python able to access variables defined outside of their own scope"
   ]
  },
  {
   "cell_type": "code",
   "execution_count": 4,
   "id": "eb54fa3e",
   "metadata": {},
   "outputs": [
    {
     "name": "stdout",
     "output_type": "stream",
     "text": [
      "30\n"
     ]
    }
   ],
   "source": [
    "def value(n):\n",
    "    return lambda x : x*n\n",
    "num1 = 6\n",
    "result = value(num1)\n",
    "ans = result(5)\n",
    "print(ans)"
   ]
  },
  {
   "cell_type": "markdown",
   "id": "80011e21",
   "metadata": {},
   "source": [
    "### 6. Write a lambda function to calculate the square of a given number."
   ]
  },
  {
   "cell_type": "code",
   "execution_count": 5,
   "id": "00fc41d3",
   "metadata": {},
   "outputs": [
    {
     "name": "stdout",
     "output_type": "stream",
     "text": [
      "Enter the Number : 5\n",
      "The square is : 25\n"
     ]
    }
   ],
   "source": [
    "sq = lambda x : x**2\n",
    "num1 = int(input(\"Enter the Number : \"))\n",
    "print(f\"The square is : {sq(num1)}\")"
   ]
  },
  {
   "cell_type": "markdown",
   "id": "4bd27ec9",
   "metadata": {},
   "source": [
    "### 7. Create a lambda function to find the maximum value in a list of integers."
   ]
  },
  {
   "cell_type": "code",
   "execution_count": 6,
   "id": "e9440e34",
   "metadata": {},
   "outputs": [
    {
     "name": "stdout",
     "output_type": "stream",
     "text": [
      "Enter the list : 4,7,10,9,8\n",
      "Maximum number is : 10\n"
     ]
    }
   ],
   "source": [
    "list1 = list(map(int,input(\"Enter the list : \").split(\",\")))\n",
    "maxi = lambda list1 : max(list1)\n",
    "print(f\"Maximum number is : {maxi(list1)}\")"
   ]
  },
  {
   "cell_type": "markdown",
   "id": "776163b8",
   "metadata": {},
   "source": [
    "### 8. Implement a lambda function to filter out all the even numbers from a list of integers."
   ]
  },
  {
   "cell_type": "code",
   "execution_count": 7,
   "id": "e500ec99",
   "metadata": {},
   "outputs": [
    {
     "name": "stdout",
     "output_type": "stream",
     "text": [
      "[2, 4, 6, 8, 18]\n"
     ]
    }
   ],
   "source": [
    "my_list = [1,2,3,4,5,6,7,8,9,18]\n",
    "even = lambda x : [x for x in my_list if x%2==0]\n",
    "print(even(my_list))"
   ]
  },
  {
   "cell_type": "markdown",
   "id": "07513138",
   "metadata": {},
   "source": [
    "### 9. Write a lambda function to sort a list of strings in ascending order based on the length of each string."
   ]
  },
  {
   "cell_type": "code",
   "execution_count": 8,
   "id": "c17c06ea",
   "metadata": {},
   "outputs": [
    {
     "name": "stdout",
     "output_type": "stream",
     "text": [
      "['apple', 'mango', 'banana', 'grapes', 'blue berry']\n"
     ]
    }
   ],
   "source": [
    "str1 = [\"apple\",\"banana\",\"mango\",\"grapes\",\"blue berry\"]\n",
    "sort_str1 = sorted(str1,key=lambda x: len(x))\n",
    "print(sort_str1)"
   ]
  },
  {
   "cell_type": "markdown",
   "id": "6243f5b5",
   "metadata": {},
   "source": [
    "### 10. Create a lambda function that takes two lists as input and returns a new list containing the common elements between the two lists."
   ]
  },
  {
   "cell_type": "code",
   "execution_count": 9,
   "id": "0f12d624",
   "metadata": {},
   "outputs": [
    {
     "name": "stdout",
     "output_type": "stream",
     "text": [
      "Enter the list1 : 1,2,3,4,5\n",
      "Enter the list2 : 2,4,6,8,10\n",
      "[2, 4]\n"
     ]
    }
   ],
   "source": [
    "list1 = list(map(int,input(\"Enter the list1 : \").split(\",\")))\n",
    "list2 = list(map(int,input(\"Enter the list2 : \").split(\",\")))\n",
    "comman = lambda x,y : [a for a in x if a in y]\n",
    "print(comman(list1,list2))"
   ]
  },
  {
   "cell_type": "markdown",
   "id": "c9ecdd45",
   "metadata": {},
   "source": [
    "### 11. Write a recursive function to calculate the factorial of a given positive integer."
   ]
  },
  {
   "cell_type": "code",
   "execution_count": 10,
   "id": "d902cb7d",
   "metadata": {},
   "outputs": [
    {
     "name": "stdout",
     "output_type": "stream",
     "text": [
      "Enter the number : 5\n"
     ]
    },
    {
     "data": {
      "text/plain": [
       "120"
      ]
     },
     "execution_count": 10,
     "metadata": {},
     "output_type": "execute_result"
    }
   ],
   "source": [
    "def fact(n):\n",
    "    if n==1:\n",
    "        return 1\n",
    "    else:\n",
    "        return n*fact(n-1)\n",
    "n = int(input(\"Enter the number : \"))\n",
    "fact(n)"
   ]
  },
  {
   "cell_type": "markdown",
   "id": "6ef7148f",
   "metadata": {},
   "source": [
    "### 12. Implement a recursive function to compute the nth Fibonacci number."
   ]
  },
  {
   "cell_type": "code",
   "execution_count": 11,
   "id": "6b0edbc7",
   "metadata": {},
   "outputs": [
    {
     "name": "stdout",
     "output_type": "stream",
     "text": [
      "Enter the number : 5\n"
     ]
    },
    {
     "data": {
      "text/plain": [
       "5"
      ]
     },
     "execution_count": 11,
     "metadata": {},
     "output_type": "execute_result"
    }
   ],
   "source": [
    "def fibo(n):\n",
    "    if n<=1:\n",
    "        return n\n",
    "    else:\n",
    "        return fibo(n-1)+fibo(n-2)\n",
    "n = int(input(\"Enter the number : \"))\n",
    "fibo(n)"
   ]
  },
  {
   "cell_type": "markdown",
   "id": "927470e4",
   "metadata": {},
   "source": [
    "### 13. Create a recursive function to find the sum of all the elements in a given list."
   ]
  },
  {
   "cell_type": "code",
   "execution_count": 12,
   "id": "618da1c4",
   "metadata": {},
   "outputs": [
    {
     "name": "stdout",
     "output_type": "stream",
     "text": [
      "27\n"
     ]
    }
   ],
   "source": [
    "def list_sum(list1):\n",
    "    if len(list1)==0:\n",
    "        return 0\n",
    "    else:\n",
    "        return list1[0] + list_sum(list1[1:])\n",
    "list1 = [1,2,7,8,9]\n",
    "ans = list_sum(list1)\n",
    "print(ans)"
   ]
  },
  {
   "cell_type": "markdown",
   "id": "9b04ca93",
   "metadata": {},
   "source": [
    "### 14. Write a recursive function to determine whether a given string is a palindrome."
   ]
  },
  {
   "cell_type": "code",
   "execution_count": 13,
   "id": "5d91a515",
   "metadata": {},
   "outputs": [
    {
     "name": "stdout",
     "output_type": "stream",
     "text": [
      "Enter the String : racecar\n",
      "String is palindrome!\n"
     ]
    }
   ],
   "source": [
    "def palindrome(str1):\n",
    "    if len(str1)==1:\n",
    "        return \"String is palindrome!\"\n",
    "    else:\n",
    "        first_char = str1[0]\n",
    "        last_char = str1[-1]\n",
    "        if first_char == last_char:\n",
    "            return palindrome(str1[1:-1])\n",
    "        else:\n",
    "            return \"String is not palindrome!\"\n",
    "str1 = input(\"Enter the String : \")\n",
    "ans = palindrome(str1)\n",
    "print(ans)"
   ]
  },
  {
   "cell_type": "markdown",
   "id": "b8b1b873",
   "metadata": {},
   "source": [
    "### 15. Implement a recursive function to find the greatest common divisor (GCD) of two positive integers."
   ]
  },
  {
   "cell_type": "code",
   "execution_count": 14,
   "id": "c6cca49c",
   "metadata": {},
   "outputs": [
    {
     "name": "stdout",
     "output_type": "stream",
     "text": [
      "Enter the first number : 12\n",
      "Enter the second number : 4\n",
      "GCD is : 4\n"
     ]
    }
   ],
   "source": [
    "def GCD(n1,n2):\n",
    "    if n2==0:\n",
    "        return n1\n",
    "    else:\n",
    "        return GCD(n2,n1%n2)\n",
    "n1 = int(input(\"Enter the first number : \"))\n",
    "n2 = int(input(\"Enter the second number : \"))\n",
    "ans=GCD(n1,n2)\n",
    "print(\"GCD is :\",ans)"
   ]
  }
 ],
 "metadata": {
  "kernelspec": {
   "display_name": "Python 3 (ipykernel)",
   "language": "python",
   "name": "python3"
  },
  "language_info": {
   "codemirror_mode": {
    "name": "ipython",
    "version": 3
   },
   "file_extension": ".py",
   "mimetype": "text/x-python",
   "name": "python",
   "nbconvert_exporter": "python",
   "pygments_lexer": "ipython3",
   "version": "3.9.13"
  }
 },
 "nbformat": 4,
 "nbformat_minor": 5
}
