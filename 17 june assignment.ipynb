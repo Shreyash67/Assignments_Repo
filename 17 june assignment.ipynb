{
 "cells": [
  {
   "cell_type": "markdown",
   "id": "ed0a9e76",
   "metadata": {},
   "source": [
    "### 1. What is the role of try and exception block?\n",
    "\n",
    "---> Try block contain the code which can raised exception and the exception block's code will be excecuted if and only if \n",
    "if an exception is raised\n",
    "\n",
    "---> In excepton block there are many types of error eg : ZeroDivisionError , TypeError etc"
   ]
  },
  {
   "cell_type": "markdown",
   "id": "f258da80",
   "metadata": {},
   "source": [
    "### 2. What is the syntax for a basic try-except block?\n",
    "\n",
    "try:\n",
    "######     Code that may raise an exception\n",
    "except :\n",
    "######     code to handle that Exception\n"
   ]
  },
  {
   "cell_type": "markdown",
   "id": "eef5ecdc",
   "metadata": {},
   "source": [
    "### 3. What happens if an exception occurs inside a try block and there is no matching except block?\n",
    "\n",
    "---> If an exception occurs inside a try block and there is no matching except block then the error is generated \n",
    "\n",
    "---> Consider the following example, In this we divide by the number by zero so Error should be ZeroDivisionError but\n",
    "in except block it is not found then we face an error"
   ]
  },
  {
   "cell_type": "code",
   "execution_count": 1,
   "id": "e50dba0f",
   "metadata": {},
   "outputs": [
    {
     "ename": "ZeroDivisionError",
     "evalue": "division by zero",
     "output_type": "error",
     "traceback": [
      "\u001b[1;31m---------------------------------------------------------------------------\u001b[0m",
      "\u001b[1;31mZeroDivisionError\u001b[0m                         Traceback (most recent call last)",
      "\u001b[1;32m~\\AppData\\Local\\Temp\\ipykernel_17160\\978513958.py\u001b[0m in \u001b[0;36m<module>\u001b[1;34m\u001b[0m\n\u001b[0;32m      2\u001b[0m \u001b[0mb\u001b[0m \u001b[1;33m=\u001b[0m \u001b[1;36m0\u001b[0m\u001b[1;33m\u001b[0m\u001b[1;33m\u001b[0m\u001b[0m\n\u001b[0;32m      3\u001b[0m \u001b[1;32mtry\u001b[0m\u001b[1;33m:\u001b[0m\u001b[1;33m\u001b[0m\u001b[1;33m\u001b[0m\u001b[0m\n\u001b[1;32m----> 4\u001b[1;33m     \u001b[0mresult\u001b[0m \u001b[1;33m=\u001b[0m \u001b[0ma\u001b[0m\u001b[1;33m/\u001b[0m\u001b[0mb\u001b[0m\u001b[1;33m\u001b[0m\u001b[1;33m\u001b[0m\u001b[0m\n\u001b[0m\u001b[0;32m      5\u001b[0m     \u001b[0mprint\u001b[0m\u001b[1;33m(\u001b[0m\u001b[0mresult\u001b[0m\u001b[1;33m)\u001b[0m\u001b[1;33m\u001b[0m\u001b[1;33m\u001b[0m\u001b[0m\n\u001b[0;32m      6\u001b[0m \u001b[1;32mexcept\u001b[0m \u001b[0mTypeError\u001b[0m\u001b[1;33m:\u001b[0m\u001b[1;33m\u001b[0m\u001b[1;33m\u001b[0m\u001b[0m\n",
      "\u001b[1;31mZeroDivisionError\u001b[0m: division by zero"
     ]
    }
   ],
   "source": [
    "a = 10\n",
    "b = 0\n",
    "try:\n",
    "    result = a/b\n",
    "    print(result)\n",
    "except TypeError:\n",
    "    print(\"Error is occur!\")\n",
    "    \n",
    "# This code is for ZeroDivisionError but we write TypeError so error is caused   "
   ]
  },
  {
   "cell_type": "markdown",
   "id": "793e0487",
   "metadata": {},
   "source": [
    "### 4. What is the difference between using a bare except block and specifying a specific exception type?\n",
    "\n",
    "---> A bare except block can catch the error without knowing the error eg :- except:\n",
    "\n",
    "---> While in specific exception we write the actual error eg: except ZeroDivisionError:"
   ]
  },
  {
   "cell_type": "code",
   "execution_count": 2,
   "id": "61362a34",
   "metadata": {},
   "outputs": [
    {
     "name": "stdout",
     "output_type": "stream",
     "text": [
      "We cannot Divide the number by Zero!\n"
     ]
    }
   ],
   "source": [
    "# Bare except block:\n",
    "n1 = 10\n",
    "n2 = 0\n",
    "try:\n",
    "    ans = n1/n2\n",
    "    print(ans)\n",
    "except:\n",
    "    print(\"We cannot Divide the number by Zero!\")"
   ]
  },
  {
   "cell_type": "code",
   "execution_count": 3,
   "id": "1fb5fc8d",
   "metadata": {},
   "outputs": [
    {
     "name": "stdout",
     "output_type": "stream",
     "text": [
      "We cannot merge the different DataTypes!\n"
     ]
    }
   ],
   "source": [
    "# specific exception type\n",
    "try:\n",
    "    a = 10\n",
    "    b = \"string\"\n",
    "    print(a+b)\n",
    "except TypeError:\n",
    "    print(\"We cannot merge the different DataTypes!\")"
   ]
  },
  {
   "cell_type": "markdown",
   "id": "9090b18c",
   "metadata": {},
   "source": [
    "### 5. Can you have nested try-except blocks in Python? If yes, then give an example.\n",
    "\n",
    "---> Yes, we have nested try-except block in Python"
   ]
  },
  {
   "cell_type": "code",
   "execution_count": 4,
   "id": "4e6d6e9e",
   "metadata": {},
   "outputs": [
    {
     "name": "stdout",
     "output_type": "stream",
     "text": [
      "Enter the first number : 10\n",
      "Enter the second number : a\n",
      "Please enter the Integer Only!\n"
     ]
    }
   ],
   "source": [
    "try:\n",
    "    n1 = int(input(\"Enter the first number : \"))\n",
    "    n2 = int(input(\"Enter the second number : \"))\n",
    "    try:\n",
    "        result = n1/n2\n",
    "        print(f\"Result is : {result}\")\n",
    "    except ZeroDivisionError:\n",
    "        print(\"You cannot Divide the number by zero!\")\n",
    "except ValueError:\n",
    "    print(\"Please enter the Integer Only!\")"
   ]
  },
  {
   "cell_type": "markdown",
   "id": "3d582a36",
   "metadata": {},
   "source": [
    "### 6. Can we use multiple exception blocks, if yes then give an example.\n",
    "\n",
    "---> Yes, we can use multiple exception blocks"
   ]
  },
  {
   "cell_type": "code",
   "execution_count": 5,
   "id": "9ab34526",
   "metadata": {},
   "outputs": [
    {
     "name": "stdout",
     "output_type": "stream",
     "text": [
      "Enter the first number : 10\n",
      "Enter the second number : 0\n",
      "You cannot Divide the number by zero!\n"
     ]
    }
   ],
   "source": [
    "try:\n",
    "    n1 = int(input(\"Enter the first number : \"))\n",
    "    n2 = int(input(\"Enter the second number : \"))\n",
    "    result = n1/n2\n",
    "    print(result)\n",
    "except ZeroDivisionError:\n",
    "    print(\"You cannot Divide the number by zero!\")\n",
    "except ValueError:\n",
    "    print(\"Please enter the Integer Only!\")"
   ]
  },
  {
   "cell_type": "markdown",
   "id": "ec2aa923",
   "metadata": {},
   "source": [
    "### 7. Write the reason due to which following errors are raised:\n",
    "\n",
    "a. EOFError :- EOFError occurs when the input() function reach end of the file\n",
    "\n",
    "b. FloatingPointError :- It raise when floating point operation fails\n",
    "\n",
    "c. IndexError :- It raised when the index is out of range\n",
    "\n",
    "d. MemoryError :- It raised when the operation is out of memory\n",
    "\n",
    "e. OverflowError :- It raised when the arithmetic operation is too large\n",
    "\n",
    "f. TabError :- It raised when indentation contains mixed tabs and spaces\n",
    "\n",
    "g. ValueError :- It raised when the input is not integer\n"
   ]
  },
  {
   "cell_type": "markdown",
   "id": "f2768cb7",
   "metadata": {},
   "source": [
    "### 8. Write code for the following given scenario and add try-exception block to it.\n",
    "\n",
    "a. Program to divide two numbers\n",
    "\n",
    "b. Program to convert a string to an integer\n",
    "\n",
    "c. Program to access an element in a list\n",
    "\n",
    "d. Program to handle a specific exception\n",
    "\n",
    "e. Program to handle any exception"
   ]
  },
  {
   "cell_type": "code",
   "execution_count": 6,
   "id": "96b76355",
   "metadata": {},
   "outputs": [
    {
     "name": "stdout",
     "output_type": "stream",
     "text": [
      "Enter the first number : 5\n",
      "Enter the second number : 0\n",
      "You cant divide the number by zero!\n"
     ]
    }
   ],
   "source": [
    "# a. Program to divide two numbers\n",
    "try:\n",
    "    n1 = int(input(\"Enter the first number : \"))\n",
    "    n2 = int(input(\"Enter the second number : \"))\n",
    "    ans = n1/n2\n",
    "    print(ans)\n",
    "except ZeroDivisionError:\n",
    "    print(\"You cant divide the number by zero!\")"
   ]
  },
  {
   "cell_type": "code",
   "execution_count": 7,
   "id": "a8394778",
   "metadata": {},
   "outputs": [
    {
     "name": "stdout",
     "output_type": "stream",
     "text": [
      "Enter the number : shreyash\n",
      "Please enter the Integer only!\n"
     ]
    }
   ],
   "source": [
    "# b. Program to convert a string to an integer\n",
    "str1 = input(\"Enter the number : \")\n",
    "try:\n",
    "    n1 = int(str1)\n",
    "    print(\"Result is :\",str1)\n",
    "except ValueError:\n",
    "    print(\"Please enter the Integer only!\")"
   ]
  },
  {
   "cell_type": "code",
   "execution_count": 8,
   "id": "b6f65f12",
   "metadata": {},
   "outputs": [
    {
     "name": "stdout",
     "output_type": "stream",
     "text": [
      "Index is out of range!\n"
     ]
    }
   ],
   "source": [
    "# c. Program to access an element in a list\n",
    "list1 = [1,2,3,4,5]\n",
    "try:\n",
    "    print(list1[5])\n",
    "except IndexError:\n",
    "    print(\"Index is out of range!\")"
   ]
  },
  {
   "cell_type": "code",
   "execution_count": 9,
   "id": "34cbb19c",
   "metadata": {},
   "outputs": [
    {
     "name": "stdout",
     "output_type": "stream",
     "text": [
      "Insufficient memory!\n"
     ]
    }
   ],
   "source": [
    "# d. Program to handle a specific exception\n",
    "try:\n",
    "    ans = [1]*(10**12)\n",
    "    print(ans)\n",
    "except MemoryError:\n",
    "    print(\"Insufficient memory!\")"
   ]
  },
  {
   "cell_type": "code",
   "execution_count": 10,
   "id": "3890c2f3",
   "metadata": {},
   "outputs": [
    {
     "name": "stdout",
     "output_type": "stream",
     "text": [
      "can only concatenate str (not \"int\") to str\n"
     ]
    }
   ],
   "source": [
    "# e. Program to handle any exception\n",
    "try:\n",
    "    a = \"str1\"\n",
    "    b = 10\n",
    "    result = a+b\n",
    "    print(result)\n",
    "except Exception as e:\n",
    "    print(e)"
   ]
  }
 ],
 "metadata": {
  "kernelspec": {
   "display_name": "Python 3 (ipykernel)",
   "language": "python",
   "name": "python3"
  },
  "language_info": {
   "codemirror_mode": {
    "name": "ipython",
    "version": 3
   },
   "file_extension": ".py",
   "mimetype": "text/x-python",
   "name": "python",
   "nbconvert_exporter": "python",
   "pygments_lexer": "ipython3",
   "version": "3.9.13"
  }
 },
 "nbformat": 4,
 "nbformat_minor": 5
}
