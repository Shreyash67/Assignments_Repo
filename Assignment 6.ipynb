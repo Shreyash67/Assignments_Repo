{
 "cells": [
  {
   "cell_type": "markdown",
   "id": "aebbb254",
   "metadata": {},
   "source": [
    "## 1. What are keywords in python? Using the keyword library, print all the python keywords.\n",
    "\n",
    "---> Keywords are reserverd words means they have special type of meaning and we can't use it as a variable"
   ]
  },
  {
   "cell_type": "code",
   "execution_count": 1,
   "id": "8b39bc9f",
   "metadata": {},
   "outputs": [
    {
     "name": "stdout",
     "output_type": "stream",
     "text": [
      "['False', 'None', 'True', '__peg_parser__', 'and', 'as', 'assert', 'async', 'await', 'break', 'class', 'continue', 'def', 'del', 'elif', 'else', 'except', 'finally', 'for', 'from', 'global', 'if', 'import', 'in', 'is', 'lambda', 'nonlocal', 'not', 'or', 'pass', 'raise', 'return', 'try', 'while', 'with', 'yield']\n"
     ]
    }
   ],
   "source": [
    "import keyword\n",
    "\n",
    "all_keywords = keyword.kwlist\n",
    "print(all_keywords)\n"
   ]
  },
  {
   "cell_type": "markdown",
   "id": "8bce75fb",
   "metadata": {},
   "source": [
    "# 2. What are the rules to create variables in python?\n",
    "\n",
    "---> We create varaible by using the characters, numbers and underscore as well\n",
    "\n",
    "---> While creating any variable, It should be start from any character or underscore but not start with any number\n",
    "\n",
    "---> Correct Method : abc_789 , _abb\n",
    "\n",
    "---> Wrong Method : 785abs , 56_gag"
   ]
  },
  {
   "cell_type": "markdown",
   "id": "33865bef",
   "metadata": {},
   "source": [
    "## 3. What are the standards and conventions followed for the nomenclature of variables in python to improve code readability and maintainability?\n",
    "\n",
    "---> Using the underscore between the words eg : roll_no , cust_email etc\n",
    "\n",
    "---> Using Descriptive Names such as for student numbers is num_student, For customers name is cust_name etc\n",
    "\n",
    "---> Avoid the use of keywords as a variable"
   ]
  },
  {
   "cell_type": "markdown",
   "id": "6993a186",
   "metadata": {},
   "source": [
    "## 4. What will happen if a keyword is used as a variable name?\n",
    "\n",
    "---> It shows the syntax Error"
   ]
  },
  {
   "cell_type": "code",
   "execution_count": 2,
   "id": "253f3a78",
   "metadata": {},
   "outputs": [
    {
     "ename": "SyntaxError",
     "evalue": "cannot assign to True (3666506779.py, line 2)",
     "output_type": "error",
     "traceback": [
      "\u001b[1;36m  File \u001b[1;32m\"C:\\Users\\admin\\AppData\\Local\\Temp\\ipykernel_18304\\3666506779.py\"\u001b[1;36m, line \u001b[1;32m2\u001b[0m\n\u001b[1;33m    True = 5\u001b[0m\n\u001b[1;37m    ^\u001b[0m\n\u001b[1;31mSyntaxError\u001b[0m\u001b[1;31m:\u001b[0m cannot assign to True\n"
     ]
    }
   ],
   "source": [
    "# Showing the SyntaxError\n",
    "True = 5\n",
    "print(True)"
   ]
  },
  {
   "cell_type": "markdown",
   "id": "2186a766",
   "metadata": {},
   "source": [
    "## 5. For what purpose def keyword is used?\n",
    "\n",
    "---> def Keyword is basically used to define a function "
   ]
  },
  {
   "cell_type": "code",
   "execution_count": 3,
   "id": "68f7b4ca",
   "metadata": {},
   "outputs": [],
   "source": [
    "def student():\n",
    "    pass"
   ]
  },
  {
   "cell_type": "markdown",
   "id": "22e03303",
   "metadata": {},
   "source": [
    "## 6. What is the operation of this special character ‘\\’?\n",
    "\n",
    "---> This is called escape character\n",
    "\n",
    "---> \"\\n\" is called newline character (It creates the newline)\n",
    "\n",
    "---> \"\\t\" is called tab character (It creates the space between sentences or words)"
   ]
  },
  {
   "cell_type": "markdown",
   "id": "c39aaa32",
   "metadata": {},
   "source": [
    "## 7. Give an example of the following conditions:\n",
    "(i) Homogeneous list\n",
    "(ii) Heterogeneous set\n",
    "(iii) Homogeneous tuple\n",
    "\n",
    "---> Homogeneous List : Homogenous list are the list which contain the same datatype\n",
    "\n",
    "---> Heterogeneous set : Heterogeneous set are the set which contains the different datatype\n",
    "\n",
    "---> Homogeneous tuple : Homogeneous tuple are the tuple which contain the same datatype"
   ]
  },
  {
   "cell_type": "code",
   "execution_count": 4,
   "id": "20889fb5",
   "metadata": {},
   "outputs": [
    {
     "name": "stdout",
     "output_type": "stream",
     "text": [
      "Example of homogeneous list : [1, 2, 3, 4, 5]\n",
      "------------------------------------------------------------\n",
      "Example of heterogeneous set : {False, 1, 'mango', 7.8}\n",
      "------------------------------------------------------------\n",
      "Example of homogeneous set : ('black', 'green', 'black')\n"
     ]
    }
   ],
   "source": [
    "list1 = [1,2,3,4,5]\n",
    "print(f\"Example of homogeneous list : {list1}\")\n",
    "print(\"-\"*60)\n",
    "set1 = {1,\"mango\",7.8,False}\n",
    "print(f\"Example of heterogeneous set : {set1}\")\n",
    "print(\"-\"*60)\n",
    "tuple1 = (\"black\",\"green\",\"black\")\n",
    "print(f\"Example of homogeneous set : {tuple1}\")"
   ]
  },
  {
   "cell_type": "markdown",
   "id": "171e4bf7",
   "metadata": {},
   "source": [
    "## 8. Explain the mutable and immutable data types with proper explanation & examples.\n",
    "\n",
    "---> Mutable datatypes are the datatypes which we can change where Immutable means cant be change \n",
    "\n",
    "---> tuple are said to be immutable because their value are fix as we assign them, we cannot change after if we assign\n",
    "\n",
    "---> While other such like list,set etc are mutable that can be changable"
   ]
  },
  {
   "cell_type": "code",
   "execution_count": 5,
   "id": "3d77173c",
   "metadata": {},
   "outputs": [
    {
     "ename": "TypeError",
     "evalue": "'tuple' object does not support item assignment",
     "output_type": "error",
     "traceback": [
      "\u001b[1;31m---------------------------------------------------------------------------\u001b[0m",
      "\u001b[1;31mTypeError\u001b[0m                                 Traceback (most recent call last)",
      "\u001b[1;32m~\\AppData\\Local\\Temp\\ipykernel_18304\\2584034554.py\u001b[0m in \u001b[0;36m<module>\u001b[1;34m\u001b[0m\n\u001b[0;32m      1\u001b[0m \u001b[0mmy_tuple\u001b[0m \u001b[1;33m=\u001b[0m \u001b[1;33m(\u001b[0m\u001b[1;36m1\u001b[0m\u001b[1;33m,\u001b[0m\u001b[1;36m2\u001b[0m\u001b[1;33m,\u001b[0m\u001b[1;36m3\u001b[0m\u001b[1;33m,\u001b[0m\u001b[1;36m4\u001b[0m\u001b[1;33m,\u001b[0m\u001b[1;36m5\u001b[0m\u001b[1;33m)\u001b[0m\u001b[1;33m\u001b[0m\u001b[1;33m\u001b[0m\u001b[0m\n\u001b[1;32m----> 2\u001b[1;33m \u001b[0mmy_tuple\u001b[0m\u001b[1;33m[\u001b[0m\u001b[1;36m2\u001b[0m\u001b[1;33m]\u001b[0m \u001b[1;33m=\u001b[0m \u001b[1;36m90\u001b[0m\u001b[1;33m\u001b[0m\u001b[1;33m\u001b[0m\u001b[0m\n\u001b[0m\u001b[0;32m      3\u001b[0m \u001b[0mprint\u001b[0m\u001b[1;33m(\u001b[0m\u001b[0mmy_tuple\u001b[0m\u001b[1;33m)\u001b[0m\u001b[1;33m\u001b[0m\u001b[1;33m\u001b[0m\u001b[0m\n\u001b[0;32m      4\u001b[0m \u001b[1;31m# Showing error as : 'tuple' object does not support item assignment\u001b[0m\u001b[1;33m\u001b[0m\u001b[1;33m\u001b[0m\u001b[0m\n",
      "\u001b[1;31mTypeError\u001b[0m: 'tuple' object does not support item assignment"
     ]
    }
   ],
   "source": [
    "my_tuple = (1,2,3,4,5)\n",
    "my_tuple[2] = 90\n",
    "print(my_tuple)\n",
    "# Showing error as : 'tuple' object does not support item assignment"
   ]
  },
  {
   "cell_type": "code",
   "execution_count": 6,
   "id": "8e2ee06a",
   "metadata": {},
   "outputs": [
    {
     "name": "stdout",
     "output_type": "stream",
     "text": [
      "[1, 2, 50, 4, 5]\n"
     ]
    }
   ],
   "source": [
    "my_list = [1,2,3,4,5]\n",
    "my_list[2]=50\n",
    "print(my_list)\n",
    "# List are mutable so showing the correct result"
   ]
  },
  {
   "cell_type": "markdown",
   "id": "6212df16",
   "metadata": {},
   "source": [
    "# Q.9. Write a code to create the given structure using only for loop.\n",
    "(Triangluar Start pattern)"
   ]
  },
  {
   "cell_type": "code",
   "execution_count": 7,
   "id": "cdb77a48",
   "metadata": {},
   "outputs": [
    {
     "name": "stdout",
     "output_type": "stream",
     "text": [
      "Enter the Number of Rows : 10\n",
      "          *\n",
      "         ***\n",
      "        *****\n",
      "       *******\n",
      "      *********\n",
      "     ***********\n",
      "    *************\n",
      "   ***************\n",
      "  *****************\n",
      " *******************\n"
     ]
    }
   ],
   "source": [
    "\"\"\"\n",
    "         * \n",
    "        * * \n",
    "       * * * \n",
    "      * * * * \n",
    "     * * * * * \n",
    "    * * * * * * \n",
    "   * * * * * * * \n",
    "  * * * * * * * * \n",
    " * * * * * * * * * \n",
    "* * * * * * * * * * (\n",
    "\"\"\"\n",
    "n = int(input(\"Enter the Number of Rows : \"))\n",
    "for i in range(n):\n",
    "    for j in range(i,n):\n",
    "        print(\" \",end=\"\")\n",
    "    for j in range(i+1):\n",
    "        print(\"*\",end=\"\")\n",
    "    for j in range(i):\n",
    "        print(\"*\",end=\"\")\n",
    "    print()            "
   ]
  },
  {
   "cell_type": "markdown",
   "id": "edfeab5b",
   "metadata": {},
   "source": [
    "## 10. Write a code to create the given structure using while loop."
   ]
  },
  {
   "cell_type": "code",
   "execution_count": 8,
   "id": "9cd80466",
   "metadata": {},
   "outputs": [
    {
     "name": "stdout",
     "output_type": "stream",
     "text": [
      "Enter Number of Rows : 5\n",
      "  | | | | | | | | | \n",
      "    | | | | | | | \n",
      "      | | | | | \n",
      "        | | | \n",
      "          | \n"
     ]
    }
   ],
   "source": [
    "\"\"\"\n",
    "| | | | | | | \n",
    " | | | | | |\n",
    "  | | | | |\n",
    "   | | | |\n",
    "    | | |\n",
    "     | |\n",
    "      |\n",
    "\"\"\"\n",
    "n = int(input(\"Enter Number of Rows : \"))\n",
    "for i in range(n):\n",
    "    for j in range(i+1):\n",
    "        print(\" \",end=\" \")\n",
    "    for j in range(i,n):\n",
    "        print(\"|\",end=\" \") \n",
    "    for j in range(i+1,n):\n",
    "        print(\"|\",end=\" \")\n",
    "    print()    "
   ]
  }
 ],
 "metadata": {
  "kernelspec": {
   "display_name": "Python 3 (ipykernel)",
   "language": "python",
   "name": "python3"
  },
  "language_info": {
   "codemirror_mode": {
    "name": "ipython",
    "version": 3
   },
   "file_extension": ".py",
   "mimetype": "text/x-python",
   "name": "python",
   "nbconvert_exporter": "python",
   "pygments_lexer": "ipython3",
   "version": "3.9.13"
  }
 },
 "nbformat": 4,
 "nbformat_minor": 5
}
