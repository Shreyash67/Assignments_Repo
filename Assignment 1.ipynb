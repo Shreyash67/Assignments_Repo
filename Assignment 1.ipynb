{
 "cells": [
  {
   "cell_type": "markdown",
   "id": "1b360d48",
   "metadata": {},
   "source": [
    "# 1. In the below elements which of them are values or an expression? eg:- values can be\n",
    "integer or string and expressions will be mathematical operators.\n",
    "*\n",
    "'hello'\n",
    "-87.8\n",
    "-\n",
    "/\n",
    "+\n",
    "6\n",
    "\n",
    "\n",
    "1. * --> It is Expression (Mathematical operator)\n",
    "2. 'hello' --> It is a value(String)\n",
    "3. -87.6 --> It is a value(Float)\n",
    "4. - --> It is an expression(minus)\n",
    "5. / --> It is an expression(Used for Division)\n",
    "6. + --> It is an expression(Used for addition)\n",
    "7. 6 --> It is a value(integer)\n"
   ]
  },
  {
   "cell_type": "code",
   "execution_count": 1,
   "id": "cb1ec10a",
   "metadata": {},
   "outputs": [
    {
     "name": "stdout",
     "output_type": "stream",
     "text": [
      "Multiplication is : 27\n",
      "<class 'str'>\n",
      "<class 'float'>\n",
      "Subtraction is : 6\n",
      "Division is : 3.0\n",
      "Addition is : 12\n",
      "<class 'int'>\n"
     ]
    }
   ],
   "source": [
    "# 1. *\n",
    "a = 9\n",
    "b = 3\n",
    "print(f\"Multiplication is : {a*b}\")\n",
    "\n",
    "# 2. 'hello'\n",
    "str1 = \"hello\"\n",
    "print(type(str1))\n",
    "\n",
    "# 3. -87.8\n",
    "num1 = -87.8\n",
    "print(type(num1))\n",
    "\n",
    "# 4. -\n",
    "print(f\"Subtraction is : {a-b}\")\n",
    "\n",
    "# 5. /\n",
    "print(f\"Division is : {a/b}\")\n",
    "\n",
    "# 6. +\n",
    "print(f\"Addition is : {a+b}\")\n",
    "\n",
    "# 7. 6\n",
    "num2 = 6\n",
    "print(type(num2))"
   ]
  },
  {
   "cell_type": "markdown",
   "id": "3c0f1ddc",
   "metadata": {},
   "source": [
    "#  2. What is the difference between string and variable?\n",
    "\n",
    "---> String : String is a data type which is represented by double(\"\") or single('') quotes.\n",
    "              for eg. \"Hello\",'Python' etc.\n",
    "\n",
    "---> variable : variable is generally used for assign or store the value. In variable we can store any datatype value.\n",
    "              for eg. a = 5 , str1 = \"Galaxy\" , num = 67.5 etc.         "
   ]
  },
  {
   "cell_type": "markdown",
   "id": "b5ca5e4a",
   "metadata": {},
   "source": [
    "# 3. Describe three different data types.\n",
    "--->\n",
    "1. Integer : Integer is a datatype which contain the values without decimal numbers.\n",
    "            Integer contain positive as well as negative values\n",
    "            eg : 6,9,0,-3,5 etc\n",
    "\n",
    "2. String : String is a data type which is represented by double(\"\") or single('') quotes.\n",
    "            It contains words as well as sentences\n",
    "            eg : \"Ram\",\"Lakshman\",\"Strings are mutable datatype\"\n",
    "            \n",
    "3. Float : Float is a datatype which contain the value with decimal numbers.\n",
    "           eg : 3.14,755.09,-23.20 etc"
   ]
  },
  {
   "cell_type": "code",
   "execution_count": 2,
   "id": "0cd70f89",
   "metadata": {},
   "outputs": [
    {
     "name": "stdout",
     "output_type": "stream",
     "text": [
      "6 : <class 'int'>\n",
      "Hello Everyone : <class 'str'>\n",
      "3.14 : <class 'float'>\n"
     ]
    }
   ],
   "source": [
    "num1 = 6\n",
    "print(f\"{num1} : {type(num1)}\")\n",
    "\n",
    "str1 = \"Hello Everyone\"\n",
    "print(f\"{str1} : {type(str1)}\")\n",
    "\n",
    "num2 = 3.14\n",
    "print(f\"{num2} : {type(num2)}\")"
   ]
  },
  {
   "cell_type": "markdown",
   "id": "ed445c32",
   "metadata": {},
   "source": [
    "# 4. What is an expression made up of? What do all expressions do?\n",
    "---> Basically all expressions are made up of values,variable,operators and function calls\n",
    "     It is just like combination of numbers,string etc\n",
    "     eg : print(a+b) here a and b are the values and the + is operator(For addition)\n",
    "\n",
    "---> Expressions are basically gives some values which is in the form of integers,float or any other datatype. It can be used in Calculatory part as well."
   ]
  },
  {
   "cell_type": "markdown",
   "id": "9c31be10",
   "metadata": {},
   "source": [
    "# 5. This assignment statements, like spam = 10. What is the difference between an expression and a statement?\n",
    "\n",
    "expressions : Bsically Expressions are the combination of various datatypes like it is in the form of Integers, Strings etc. \n",
    "eg : num1 = 7 (Here the num cantain the values)\n",
    "     a+b (Here a nd b are the values and + is operator)\n",
    "     \n",
    "Statement : Statement do not produce any value in fact they are used to Execute or perform specific Tasks.\n",
    "eg : Spam = 10 is a statement that assign value 10 "
   ]
  },
  {
   "cell_type": "markdown",
   "id": "b9596f82",
   "metadata": {},
   "source": [
    "# 6. After running the following code, what does the variable bacon contain?\n",
    "bacon = 22\n",
    "bacon + 1\n",
    "\n",
    "--> after the running code the bacon variable value still 22 bcz we cannot store this value in bacon variable again"
   ]
  },
  {
   "cell_type": "code",
   "execution_count": 3,
   "id": "f5df023f",
   "metadata": {},
   "outputs": [
    {
     "name": "stdout",
     "output_type": "stream",
     "text": [
      "Before storing....\n",
      "22\n",
      "---------\n",
      "After storing....\n",
      "23\n"
     ]
    }
   ],
   "source": [
    "print(\"Before storing....\")\n",
    "bacon = 22\n",
    "bacon + 1\n",
    "print(bacon)\n",
    "print(\"---------\")\n",
    "print(\"After storing....\")\n",
    "bacon = 22\n",
    "bacon = bacon+1\n",
    "print(bacon)"
   ]
  },
  {
   "cell_type": "markdown",
   "id": "c8fbb469",
   "metadata": {},
   "source": [
    "# 7. What should the values of the following two terms be?\n",
    "'spam' + 'spamspam'\n",
    ", 'spam'*3"
   ]
  },
  {
   "cell_type": "code",
   "execution_count": 4,
   "id": "f7330096",
   "metadata": {},
   "outputs": [
    {
     "name": "stdout",
     "output_type": "stream",
     "text": [
      "spamspamspam\n",
      "spamspamspam\n"
     ]
    }
   ],
   "source": [
    "print('spam' + 'spamspam')\n",
    "print('spam'*3)"
   ]
  },
  {
   "cell_type": "markdown",
   "id": "d960e439",
   "metadata": {},
   "source": [
    "# 8. Why is eggs a valid variable name while 100 is invalid?\n",
    "---> Basically Variable names are start with the letters and underscore Because they are case sensitive called eggs and they are valid variables. Where the 100 means the variables starts with numbers but they are not valid.\n",
    "eg : str1 (Valid variable) , 009d (Invalid variable)\n"
   ]
  },
  {
   "cell_type": "markdown",
   "id": "075952a8",
   "metadata": {},
   "source": [
    "# 9. What three functions can be used to get the integer, floating-point number, or string version of a value?"
   ]
  },
  {
   "cell_type": "code",
   "execution_count": 5,
   "id": "cf1b2b50",
   "metadata": {},
   "outputs": [
    {
     "name": "stdout",
     "output_type": "stream",
     "text": [
      "20\n",
      "-------\n",
      "10.0\n",
      "-------\n"
     ]
    },
    {
     "data": {
      "text/plain": [
       "'7'"
      ]
     },
     "execution_count": 5,
     "metadata": {},
     "output_type": "execute_result"
    }
   ],
   "source": [
    "num1 = int(20.3)\n",
    "print(num1)\n",
    "print(\"-------\")\n",
    "num2 = float(\"10\")\n",
    "print(num2)\n",
    "print(\"-------\")\n",
    "num3 = str(7)\n",
    "num3"
   ]
  },
  {
   "cell_type": "markdown",
   "id": "f4277b68",
   "metadata": {},
   "source": [
    "# 10. Why does this expression cause an error? How can you fix it?\n",
    "'I have eaten' + 99 + 'burritos'"
   ]
  },
  {
   "cell_type": "code",
   "execution_count": 6,
   "id": "4f7c4f9c",
   "metadata": {},
   "outputs": [
    {
     "name": "stdout",
     "output_type": "stream",
     "text": [
      "I have eaten 99 burritos\n"
     ]
    }
   ],
   "source": [
    "# print('I have eaten' + 99 + 'burritos')\n",
    "# In this 99 is integer and others are string so we cant concatenate, so for concatenate we have to typecast the int to string\n",
    "print('I have eaten ' + str(99) + ' burritos')"
   ]
  },
  {
   "cell_type": "code",
   "execution_count": null,
   "id": "60cd177d",
   "metadata": {},
   "outputs": [],
   "source": []
  }
 ],
 "metadata": {
  "kernelspec": {
   "display_name": "Python 3 (ipykernel)",
   "language": "python",
   "name": "python3"
  },
  "language_info": {
   "codemirror_mode": {
    "name": "ipython",
    "version": 3
   },
   "file_extension": ".py",
   "mimetype": "text/x-python",
   "name": "python",
   "nbconvert_exporter": "python",
   "pygments_lexer": "ipython3",
   "version": "3.9.13"
  }
 },
 "nbformat": 4,
 "nbformat_minor": 5
}
