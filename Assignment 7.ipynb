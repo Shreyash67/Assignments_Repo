{
 "cells": [
  {
   "cell_type": "markdown",
   "id": "035692f2",
   "metadata": {},
   "source": [
    "## 1. Create two int type variables, apply addition, subtraction, division and multiplications and store the results in variables. Then print the data in the following format by calling the variables:\n",
    "\n",
    "First variable is __ & second variable is __.\n",
    "\n",
    "Addition: __ + __ = __\n",
    "\n",
    "Subtraction: __ - __ = __\n",
    "\n",
    "Multiplication: __ * __ = __\n",
    "\n",
    "Division: __ / __ = __"
   ]
  },
  {
   "cell_type": "code",
   "execution_count": 1,
   "id": "d50cf4ff",
   "metadata": {},
   "outputs": [
    {
     "name": "stdout",
     "output_type": "stream",
     "text": [
      "Enter First Number : 10\n",
      "Enter Second Number : 5\n",
      "First varaible is 10 & second variable is 5\n",
      "Addition: 10 + 5 = 15\n",
      "Subtraction: 10 - 5 = 5\n",
      "Multiplication: 10 * 5 = 50\n",
      "Division: 10 / 5 = 2.0\n"
     ]
    }
   ],
   "source": [
    "num1 = int(input(\"Enter First Number : \"))\n",
    "num2 = int(input(\"Enter Second Number : \"))\n",
    "add = num1+num2\n",
    "sub = num1-num2\n",
    "mul = num1*num2\n",
    "div = num1/num2\n",
    "print(f\"First varaible is {num1} & second variable is {num2}\")\n",
    "print(f\"Addition: {num1} + {num2} = {add}\")\n",
    "print(f\"Subtraction: {num1} - {num2} = {sub}\")\n",
    "print(f\"Multiplication: {num1} * {num2} = {mul}\")\n",
    "print(f\"Division: {num1} / {num2} = {div}\")"
   ]
  },
  {
   "cell_type": "markdown",
   "id": "e4481a67",
   "metadata": {},
   "source": [
    "## 2. What is the difference between the following operators:\n",
    "(i) ‘/’ & ‘//’\n",
    "\n",
    "---> These Operators are basically used for Division \n",
    "\n",
    "---> When '/' is used, we get the output in the decimal form. eg : 10/5=2.0\n",
    "\n",
    "---> When '//' is used, it can neglete the part which is on the right side of decimal point. eg : 5//3 = 1\n",
    "\n",
    "<--------------------------------------------------------------------------------------------------------------------------------------->\n",
    "\n",
    "(ii) ‘**’ & ‘^’\n",
    "\n",
    "---> ' ** ' This operator is basically used to performs exponentiation. eg : 2**3 = 8\n",
    "\n",
    "---> '^' This operator perform XOR operation in Python. eg : 5 = 0101 and 6 = 0110 then 5^6 = 0011"
   ]
  },
  {
   "cell_type": "markdown",
   "id": "9c562292",
   "metadata": {},
   "source": [
    "## 3. List the logical operators.\n",
    "\n",
    "---> AND OPERATOR : AND operator return True value if both the operands are True, if not then return False\n",
    "\n",
    "---> OR OPERATOR : OR operator return False value if both the operands are False, if not then return True\n",
    "\n",
    "---> NOT OPERATOR : In NOT operator, if the operand value is False then it will return True and vise versa"
   ]
  },
  {
   "cell_type": "code",
   "execution_count": 2,
   "id": "ef9b9f60",
   "metadata": {},
   "outputs": [
    {
     "name": "stdout",
     "output_type": "stream",
     "text": [
      "a is True and b is True then AND OPERATOR IS : True\n",
      "a is False and b is False then OR OPERATOR IS : False\n",
      "a is True then NOT OPERATOR IS : False\n"
     ]
    }
   ],
   "source": [
    "print(f\"a is {True} and b is {True} then AND OPERATOR IS : {True and True}\")\n",
    "print(f\"a is {False} and b is {False} then OR OPERATOR IS : {False or False}\")\n",
    "print(f\"a is {True} then NOT OPERATOR IS : {not True}\")"
   ]
  },
  {
   "cell_type": "markdown",
   "id": "e5d26651",
   "metadata": {},
   "source": [
    "## 4. Explain right shift operator and left shift operator with examples.\n",
    "\n",
    "---> Right shift (>>) and Left shift (<<) operator are the bitwise operator\n",
    "\n",
    "---> Right shift operator can shift the bits of the number to right by number of position. \n",
    "\n",
    "     eg : a = 16 (10000) then a>>2 = 100 (4)\n",
    "\n",
    "---> Left shift operator can shift the bits of the number to left by number of position\n",
    "\n",
    "     eg : b = 2 (10) then b<<2 = 1000 (8)"
   ]
  },
  {
   "cell_type": "code",
   "execution_count": 3,
   "id": "4582a7d4",
   "metadata": {},
   "outputs": [
    {
     "name": "stdout",
     "output_type": "stream",
     "text": [
      "4\n",
      "8\n"
     ]
    }
   ],
   "source": [
    "a = 16\n",
    "print(a>>2)\n",
    "\n",
    "b = 2\n",
    "print(b<<2)"
   ]
  },
  {
   "cell_type": "markdown",
   "id": "9d8e07a8",
   "metadata": {},
   "source": [
    "## 5. Create a list containing int type data of length 15. Then write a code to check if 10 is present in the list or not."
   ]
  },
  {
   "cell_type": "code",
   "execution_count": 4,
   "id": "8ed2fa01",
   "metadata": {},
   "outputs": [
    {
     "name": "stdout",
     "output_type": "stream",
     "text": [
      "List is : [1, 2, 3, 4, 5, 6, 7, 8, 9, 10, 11, 12, 13, 14, 15]\n",
      "Length of the list is : 15\n",
      "10 is present in the list!\n"
     ]
    }
   ],
   "source": [
    "list1 = [1,2,3,4,5,6,7,8,9,10,11,12,13,14,15]\n",
    "print(f\"List is : {list1}\")\n",
    "print(f\"Length of the list is : {len(list1)}\")\n",
    "if 10 in list1:\n",
    "    print(\"10 is present in the list!\")\n",
    "else:\n",
    "    print(\"10 is not present in the list!\")"
   ]
  },
  {
   "cell_type": "code",
   "execution_count": 5,
   "id": "2f61f299",
   "metadata": {},
   "outputs": [
    {
     "name": "stdout",
     "output_type": "stream",
     "text": [
      "List is : [1, 2, 3, 4, 5, 6, 7, 8, 9, 16, 11, 12, 13, 14, 15]\n",
      "Length of the list is : 15\n",
      "10 is not present in the list!\n"
     ]
    }
   ],
   "source": [
    "list1 = [1,2,3,4,5,6,7,8,9,16,11,12,13,14,15]\n",
    "print(f\"List is : {list1}\")\n",
    "print(f\"Length of the list is : {len(list1)}\")\n",
    "if 10 in list1:\n",
    "    print(\"10 is present in the list!\")\n",
    "else:\n",
    "    print(\"10 is not present in the list!\")"
   ]
  }
 ],
 "metadata": {
  "kernelspec": {
   "display_name": "Python 3 (ipykernel)",
   "language": "python",
   "name": "python3"
  },
  "language_info": {
   "codemirror_mode": {
    "name": "ipython",
    "version": 3
   },
   "file_extension": ".py",
   "mimetype": "text/x-python",
   "name": "python",
   "nbconvert_exporter": "python",
   "pygments_lexer": "ipython3",
   "version": "3.9.13"
  }
 },
 "nbformat": 4,
 "nbformat_minor": 5
}
