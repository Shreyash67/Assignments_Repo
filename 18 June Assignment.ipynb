{
 "cells": [
  {
   "cell_type": "markdown",
   "id": "9a75c1e8",
   "metadata": {},
   "source": [
    "### 1. What is the role of the 'else' block in a try-except statement? Provide an example scenario where it would be useful.\n",
    "\n",
    "---> when the try statement raised successfully then the else statement code is executed or if not then except statement is raised"
   ]
  },
  {
   "cell_type": "code",
   "execution_count": 1,
   "id": "20e3a23b",
   "metadata": {},
   "outputs": [
    {
     "name": "stdout",
     "output_type": "stream",
     "text": [
      "result is : 2.0\n"
     ]
    }
   ],
   "source": [
    "try:\n",
    "    a=10\n",
    "    b=5\n",
    "    result = a/b\n",
    "except ZeroDivisionError:\n",
    "    print(\"We cannot Divide the Number by Zero!\")\n",
    "else:\n",
    "    print(\"result is :\",result)"
   ]
  },
  {
   "cell_type": "markdown",
   "id": "8e190576",
   "metadata": {},
   "source": [
    "### 2. Can a try-except block be nested inside another try-except block? Explain with an example.\n",
    "\n",
    "---> Yes, try-except block be nested inside another try-except block"
   ]
  },
  {
   "cell_type": "code",
   "execution_count": 2,
   "id": "fab39658",
   "metadata": {},
   "outputs": [
    {
     "name": "stdout",
     "output_type": "stream",
     "text": [
      "Enter the first number : 12\n",
      "Enter the second number : a\n",
      "Please enter an Integer only!\n"
     ]
    }
   ],
   "source": [
    "try:\n",
    "    n1 = int(input(\"Enter the first number : \"))\n",
    "    n2 = int(input(\"Enter the second number : \"))\n",
    "    try:\n",
    "        ans = n1/n2\n",
    "        print(\"Ans :\",ans)\n",
    "    except ZeroDivisionError:\n",
    "        print(\"We cannot Divide the Number by Zero!\")\n",
    "except ValueError:\n",
    "    print(\"Please enter an Integer only!\")"
   ]
  },
  {
   "cell_type": "markdown",
   "id": "ffba5a8b",
   "metadata": {},
   "source": [
    "### 3. How can you create a custom exception class in Python? Provide an example that demonstrates its usage."
   ]
  },
  {
   "cell_type": "code",
   "execution_count": 3,
   "id": "21d5f609",
   "metadata": {},
   "outputs": [
    {
     "name": "stdout",
     "output_type": "stream",
     "text": [
      "Hey User!\n"
     ]
    }
   ],
   "source": [
    "class Number(Exception):\n",
    "    print(\"Hey User!\")"
   ]
  },
  {
   "cell_type": "code",
   "execution_count": 4,
   "id": "4a1c7404",
   "metadata": {},
   "outputs": [
    {
     "name": "stdout",
     "output_type": "stream",
     "text": [
      "Enter the number : 12\n",
      "Please enter the number greater than 100!\n"
     ]
    }
   ],
   "source": [
    "try:\n",
    "    n1 = int(input(\"Enter the number : \"))\n",
    "    if n1<=100:\n",
    "        raise Number\n",
    "    else:\n",
    "        print(\"Great!\")\n",
    "except Number:\n",
    "    print(\"Please enter the number greater than 100!\")"
   ]
  },
  {
   "cell_type": "markdown",
   "id": "6c2cbcac",
   "metadata": {},
   "source": [
    "### 4. What are some common exceptions that are built-in to Python?\n",
    "\n",
    "---> 1. ZeroDivisionError : raised when Divide the number by zero\n",
    "\n",
    "---> 2. ValueError : raised when number is not integer\n",
    "\n",
    "---> 3. TypeError : raised when the datatype is not same (for eg: if we add it)\n",
    "\n",
    "---> 4. MemoryError : raised when code runs out of memory\n",
    "\n",
    "---> 5. IOError : raised when IO Operations fails\n",
    "\n",
    "---> 6. ImportError : raised when particular library is missing\n",
    "\n",
    "---> 7. OverFlowError : raised when result of arithmetic operation is too large\n",
    "\n",
    "---> 8. NameError : raised when perticular value is not found\n",
    "\n",
    "---> 9. SyntaxError : raised when synatx is not correct\n",
    "\n",
    "---> 10. IdentationError : raised when identation is wrong"
   ]
  },
  {
   "cell_type": "markdown",
   "id": "b05fac52",
   "metadata": {},
   "source": [
    "### 5. What is logging in Python, and why is it important in software development?\n",
    "\n",
    "---> logging in Python is the process of recording some message or some info\n",
    "\n",
    "---> It is important in software development because it can maintain the overall development and debugging process"
   ]
  },
  {
   "cell_type": "markdown",
   "id": "8ede83f0",
   "metadata": {},
   "source": [
    "### 6. Explain the purpose of log levels in Python logging and provide examples of when each log level would be appropriate.\n",
    "\n",
    "---> Log levels can categories the log messages based on there priorities\n",
    "\n",
    "---> priority as follows : DEBUG,INFO,WARNING,ERROR,CRITICAL"
   ]
  },
  {
   "cell_type": "code",
   "execution_count": 5,
   "id": "27af5472",
   "metadata": {},
   "outputs": [
    {
     "name": "stderr",
     "output_type": "stream",
     "text": [
      "DEBUG:root:Debug msg\n",
      "INFO:root:Info msg\n",
      "WARNING:root:warning msg\n",
      "ERROR:root:error msg\n",
      "CRITICAL:root:critical msg\n"
     ]
    }
   ],
   "source": [
    "import logging\n",
    "logging.basicConfig(level=logging.DEBUG)\n",
    "logging.debug(\"Debug msg\")\n",
    "logging.info(\"Info msg\")\n",
    "logging.warning(\"warning msg\")\n",
    "logging.error(\"error msg\")\n",
    "logging.critical(\"critical msg\")"
   ]
  },
  {
   "cell_type": "markdown",
   "id": "2cfacec9",
   "metadata": {},
   "source": [
    "### 7. What are log formatters in Python logging, and how can you customise the log message format using formatters?\n",
    "\n",
    "---> log formatte define the structure og the log message "
   ]
  },
  {
   "cell_type": "code",
   "execution_count": 6,
   "id": "918f3b21",
   "metadata": {},
   "outputs": [
    {
     "name": "stderr",
     "output_type": "stream",
     "text": [
      "DEBUG:root:This is debug message!\n",
      "2023-06-26 21:37:33,420 : DEBUG : This is debug message!\n"
     ]
    }
   ],
   "source": [
    "import logging\n",
    "formatter = logging.Formatter(\"%(asctime)s : %(levelname)s : %(message)s\")\n",
    "\n",
    "handler = logging.StreamHandler()\n",
    "handler.setFormatter(formatter)\n",
    "\n",
    "logger = logging.getLogger()\n",
    "logger.addHandler(handler)\n",
    "\n",
    "logging.debug(\"This is debug message!\")"
   ]
  },
  {
   "cell_type": "markdown",
   "id": "5aaf32cc",
   "metadata": {},
   "source": [
    "### 8. How can you set up logging to capture log messages from multiple modules or classes in a Python application?"
   ]
  },
  {
   "cell_type": "code",
   "execution_count": 7,
   "id": "23a8dc3f",
   "metadata": {},
   "outputs": [
    {
     "name": "stderr",
     "output_type": "stream",
     "text": [
      "INFO:__main__.A:This is a log message from module A\n",
      "2023-06-26 21:37:33,448 : INFO : This is a log message from module A\n",
      "WARNING:__main__.B:This is a log message from module B\n",
      "2023-06-26 21:37:33,455 : WARNING : This is a log message from module B\n"
     ]
    }
   ],
   "source": [
    "import logging\n",
    "logging.basicConfig(format='%(asctime)s - %(levelname)s - %(message)s', level=logging.INFO)\n",
    "\n",
    "logger_a = logging.getLogger(__name__ + '.A')\n",
    "logger_a.info('This is a log message from module A')\n",
    "\n",
    "logger_b = logging.getLogger(__name__ + '.B')\n",
    "logger_b.warning('This is a log message from module B')\n"
   ]
  },
  {
   "cell_type": "markdown",
   "id": "3d222c4f",
   "metadata": {},
   "source": [
    "### 9. What is the difference between the logging and print statements in Python? When should you use logging over print statements in a real-world application?\n",
    "\n",
    "---> print statement can send output to the console where logging can send the output to the console,files etc\n",
    "\n",
    "---> Print statement doesnt have any levels where logging contains different levels eg : DEBUG,INFO,WARNING,ERROR,CRITICAL\n",
    "\n",
    "---> logging can find and fix the problem in coding where print is not , it also shows the level of logs so we can understand\n",
    "the level of problem "
   ]
  },
  {
   "cell_type": "markdown",
   "id": "06e81cf2",
   "metadata": {},
   "source": [
    "### 10. Write a Python program that logs a message to a file named \"app.log\" with the\n",
    "\n",
    "following requirements:\n",
    "\n",
    "● The log message should be \"Hello, World!\"\n",
    "\n",
    "● The log level should be set to \"INFO.\"\n",
    "\n",
    "● The log file should append new log entries without overwriting previous ones."
   ]
  },
  {
   "cell_type": "code",
   "execution_count": 8,
   "id": "919a35b6",
   "metadata": {},
   "outputs": [
    {
     "name": "stderr",
     "output_type": "stream",
     "text": [
      "INFO:root:Hello, World!\n",
      "2023-06-26 21:37:33,485 : INFO : Hello, World!\n"
     ]
    }
   ],
   "source": [
    "# The log message should be \"Hello, World!\"\n",
    "import logging \n",
    "logging.basicConfig(filename=\"app.log\",filemode=\"a\",level=logging.INFO)\n",
    "logging.info(\"Hello, World!\")"
   ]
  },
  {
   "cell_type": "markdown",
   "id": "0766080a",
   "metadata": {},
   "source": [
    "### 11. Create a Python program that logs an error message to the console and a file named \"errors.log\" if an exception occurs during the program's execution. The error message should include the exception type and a timestamp."
   ]
  },
  {
   "cell_type": "code",
   "execution_count": 9,
   "id": "534946bd",
   "metadata": {},
   "outputs": [
    {
     "name": "stderr",
     "output_type": "stream",
     "text": [
      "ERROR:root:ValueError: An example exception\n",
      "2023-06-26 21:37:33,526 : ERROR : ValueError: An example exception\n"
     ]
    },
    {
     "name": "stdout",
     "output_type": "stream",
     "text": [
      "ValueError: An example exception\n"
     ]
    }
   ],
   "source": [
    "import logging\n",
    "\n",
    "logging.basicConfig(level=logging.ERROR)\n",
    "\n",
    "error_handler = logging.FileHandler('errors.log')\n",
    "error_handler.setLevel(logging.ERROR)\n",
    "formatter = logging.Formatter('%(asctime)s - %(levelname)s - %(message)s')\n",
    "error_handler.setFormatter(formatter)\n",
    "logging.getLogger().addHandler(error_handler)\n",
    "\n",
    "try:\n",
    "    raise ValueError('An example exception')\n",
    "except Exception as e:\n",
    "    error_msg = f'{type(e).__name__}: {e}'\n",
    "    logging.error(error_msg)\n",
    "    print(error_msg)\n"
   ]
  }
 ],
 "metadata": {
  "kernelspec": {
   "display_name": "Python 3 (ipykernel)",
   "language": "python",
   "name": "python3"
  },
  "language_info": {
   "codemirror_mode": {
    "name": "ipython",
    "version": 3
   },
   "file_extension": ".py",
   "mimetype": "text/x-python",
   "name": "python",
   "nbconvert_exporter": "python",
   "pygments_lexer": "ipython3",
   "version": "3.9.13"
  }
 },
 "nbformat": 4,
 "nbformat_minor": 5
}
