{
 "cells": [
  {
   "cell_type": "markdown",
   "id": "64216b37",
   "metadata": {},
   "source": [
    "# 1. Why are functions advantageous to have in your programs?\n",
    "\n",
    "---> They can reduce the length of code which means that if the code part is repeat several time, then we just write this\n",
    "     part in Function and simply call it as our requirement.\n",
    "    \n",
    "--->  Code easier to understand because of hiding the complex part (Abstraction)\n",
    "\n",
    "--->  We can easily modify the the Function\n",
    "\n",
    "---> We can easily share the part of code "
   ]
  },
  {
   "cell_type": "markdown",
   "id": "90ae3819",
   "metadata": {},
   "source": [
    "# 2. When does the code in a function run: when it's specified or when it's called?\n",
    "\n",
    "---> Function is basically run when it calls. Inside the function, there is a code which is executed when the \n",
    "Function is called"
   ]
  },
  {
   "cell_type": "code",
   "execution_count": 1,
   "id": "c37aae25",
   "metadata": {},
   "outputs": [
    {
     "name": "stdout",
     "output_type": "stream",
     "text": [
      "My name is Shreyash\n"
     ]
    }
   ],
   "source": [
    "def Myname():\n",
    "    print(\"My name is Shreyash\")\n",
    "\n",
    "Myname()    #Calling Function"
   ]
  },
  {
   "cell_type": "markdown",
   "id": "4a11042b",
   "metadata": {},
   "source": [
    "# 3. What statement creates a function?\n",
    "\n",
    "---> Function includes def, Function_name , parameters etc.\n",
    "     eg : def function_name(Parameters):\n",
    "     \n",
    "---> def stands for defination function which is used for to create the function \n",
    "\n",
    "---> In function_name we can give any name which is valid\n",
    "\n",
    "---> Then In the paranthesis, parameters are located\n",
    "\n",
    "---> At the end of paranthesis,\":\" this colo is present which indicates the end of the function\n"
   ]
  },
  {
   "cell_type": "code",
   "execution_count": 2,
   "id": "4c85c9f9",
   "metadata": {},
   "outputs": [
    {
     "name": "stdout",
     "output_type": "stream",
     "text": [
      "Addition is : 20\n"
     ]
    }
   ],
   "source": [
    "def Addition(n1,n2):\n",
    "    print(\"Addition is :\",n1+n2)\n",
    "Addition(10,10)    "
   ]
  },
  {
   "cell_type": "markdown",
   "id": "4ff6e8d0",
   "metadata": {},
   "source": [
    "# 4. What is the difference between a function and a function call?\n",
    "\n",
    "---> Function : Function generally consists of def,Function_name and parameters inside the paranthesis. Inside the function \n",
    "there is main executable code and this code cannot run if it is not called.\n",
    "\n",
    "---> Function Call : When we execute or run the code which is inside the Function we call that Function and it is called function call."
   ]
  },
  {
   "cell_type": "code",
   "execution_count": 3,
   "id": "cb99b57f",
   "metadata": {},
   "outputs": [
    {
     "name": "stdout",
     "output_type": "stream",
     "text": [
      "Subtraction is : 15\n"
     ]
    }
   ],
   "source": [
    "def Subtraction(a,b):\n",
    "    print(\"Subtraction is :\",a+b)\n",
    "#This is a Function which is not callable yet so it cant execute\n",
    "\n",
    "Subtraction(10,5) #This is Function call, Now the Code which is inside the Function is executed"
   ]
  },
  {
   "cell_type": "markdown",
   "id": "ec7b695f",
   "metadata": {},
   "source": [
    "# 5. How many global scopes are there in a Python program? How many local scopes?\n",
    "\n",
    "---> There is only one global scope in the program which is access from anywhere, i.e It is access from the function and \n",
    "out of the function as well\n",
    "\n",
    "---> Local scope are located inside the Functions and it is access only in function.There are multiple local variables are located in the program"
   ]
  },
  {
   "cell_type": "code",
   "execution_count": 4,
   "id": "30c5229f",
   "metadata": {},
   "outputs": [
    {
     "name": "stdout",
     "output_type": "stream",
     "text": [
      "x is 2\n"
     ]
    }
   ],
   "source": [
    "# If same varaible is present then priority goes to those variable which is inside the Function\n",
    "x = 5\n",
    "def value():\n",
    "    x = 2\n",
    "    print(f\"x is {x}\")\n",
    "value()  "
   ]
  },
  {
   "cell_type": "code",
   "execution_count": 5,
   "id": "829fcf51",
   "metadata": {},
   "outputs": [
    {
     "name": "stdout",
     "output_type": "stream",
     "text": [
      "x is 5\n"
     ]
    }
   ],
   "source": [
    "# If global varible is present only and no any local varible is present inside the function then, Function can access the \n",
    "# global variable\n",
    "x = 5\n",
    "def value():\n",
    "    print(f\"x is {x}\")\n",
    "value()  "
   ]
  },
  {
   "cell_type": "markdown",
   "id": "9ddaeeb5",
   "metadata": {},
   "source": [
    "# 6. What happens to variables in a local scope when the function call returns?\n",
    "\n",
    "---> When the function call return, the local variable is destroyed which means that we cannot access it.\n",
    "\n",
    "---> Because local variables are basically access in there function only, and if function call returns then it will be destroyed"
   ]
  },
  {
   "cell_type": "code",
   "execution_count": 6,
   "id": "575a598f",
   "metadata": {},
   "outputs": [
    {
     "name": "stdout",
     "output_type": "stream",
     "text": [
      "12\n",
      "--------\n"
     ]
    },
    {
     "ename": "NameError",
     "evalue": "name 'c' is not defined",
     "output_type": "error",
     "traceback": [
      "\u001b[1;31m---------------------------------------------------------------------------\u001b[0m",
      "\u001b[1;31mNameError\u001b[0m                                 Traceback (most recent call last)",
      "\u001b[1;32m~\\AppData\\Local\\Temp\\ipykernel_18132\\1065395827.py\u001b[0m in \u001b[0;36m<module>\u001b[1;34m\u001b[0m\n\u001b[0;32m      6\u001b[0m \u001b[0mprint\u001b[0m\u001b[1;33m(\u001b[0m\u001b[0mans\u001b[0m\u001b[1;33m)\u001b[0m\u001b[1;33m\u001b[0m\u001b[1;33m\u001b[0m\u001b[0m\n\u001b[0;32m      7\u001b[0m \u001b[0mprint\u001b[0m\u001b[1;33m(\u001b[0m\u001b[1;34m\"--------\"\u001b[0m\u001b[1;33m)\u001b[0m\u001b[1;33m\u001b[0m\u001b[1;33m\u001b[0m\u001b[0m\n\u001b[1;32m----> 8\u001b[1;33m \u001b[0mprint\u001b[0m\u001b[1;33m(\u001b[0m\u001b[0mc\u001b[0m\u001b[1;33m)\u001b[0m \u001b[1;31m# Accessing the local Scope(Showing name error)\u001b[0m\u001b[1;33m\u001b[0m\u001b[1;33m\u001b[0m\u001b[0m\n\u001b[0m",
      "\u001b[1;31mNameError\u001b[0m: name 'c' is not defined"
     ]
    }
   ],
   "source": [
    "def Function1(a,b):\n",
    "    c = a+b\n",
    "    return c\n",
    "\n",
    "ans = Function1(5,7)\n",
    "print(ans)\n",
    "print(\"--------\")\n",
    "print(c) # Accessing the local Scope(Showing name error)"
   ]
  },
  {
   "cell_type": "markdown",
   "id": "38faa1bc",
   "metadata": {},
   "source": [
    "# 7. What is the concept of a return value? Is it possible to have a return value in an expression?\n",
    "\n",
    "---> Basically the return value can give the actual output when we call the function. It has no specific data type which means that it is in either string, integer etc\n",
    "\n",
    "---> It is possible to return the value in expression \n",
    "     eg: return a+b"
   ]
  },
  {
   "cell_type": "code",
   "execution_count": null,
   "id": "230af9cb",
   "metadata": {},
   "outputs": [],
   "source": [
    "def Addition(a,b):\n",
    "    return (a+b)\n",
    "ans = Addition(5,5)\n",
    "print(ans)"
   ]
  },
  {
   "cell_type": "markdown",
   "id": "1b50696a",
   "metadata": {},
   "source": [
    "# 8. If a function does not have a return statement, what is the return value of a call to that function?\n",
    "\n",
    "---> If the function does not return statement and if we call that function then it gives the output as None"
   ]
  },
  {
   "cell_type": "code",
   "execution_count": null,
   "id": "cb9c3142",
   "metadata": {},
   "outputs": [],
   "source": [
    "def Mul(a,b):\n",
    "    pass\n",
    "ans=Mul(4,3)\n",
    "print(ans)"
   ]
  },
  {
   "cell_type": "markdown",
   "id": "62b18357",
   "metadata": {},
   "source": [
    "# 9. How do you make a function variable refer to the global variable?\n",
    "\n",
    "---> If we declare a global variable and access that variable without creating new so we have to write keyword as \n",
    "global.\n",
    "\n",
    "---> So that we can do some task on that variable but it is perticular for that variable only, if we perform any\n",
    "task out of the function then that result is perticular for them only."
   ]
  },
  {
   "cell_type": "code",
   "execution_count": null,
   "id": "3f199f4e",
   "metadata": {},
   "outputs": [],
   "source": [
    "x = 10\n",
    "def Function():\n",
    "    global x  # Declare a global keyword (No using any same variable)\n",
    "    x = x+3\n",
    "    print(f\"value of X inside the Function is :{x}\")\n",
    "\n",
    "print(f\"value of X Outside the Function is :{x}\")\n",
    "Function()"
   ]
  },
  {
   "cell_type": "markdown",
   "id": "6eb84f09",
   "metadata": {},
   "source": [
    "# 10. What is the data type of None?\n",
    "\n",
    "---> The data type of None is is NoneType\n",
    "\n",
    "---> None is basically generate when the varaible doesnt have any value or doesnt return any value."
   ]
  },
  {
   "cell_type": "code",
   "execution_count": null,
   "id": "d2235523",
   "metadata": {},
   "outputs": [],
   "source": [
    "print(type(None))"
   ]
  },
  {
   "cell_type": "code",
   "execution_count": null,
   "id": "ae1b614e",
   "metadata": {},
   "outputs": [],
   "source": [
    "x = None\n",
    "print(x)"
   ]
  },
  {
   "cell_type": "code",
   "execution_count": null,
   "id": "e91675fd",
   "metadata": {},
   "outputs": [],
   "source": [
    "def Hello():\n",
    "    pass\n",
    "a = Hello()\n",
    "print(a)"
   ]
  },
  {
   "cell_type": "markdown",
   "id": "3309559e",
   "metadata": {},
   "source": [
    "# 11. What does the sentence import areallyourpetsnamederic do?\n",
    "\n",
    "---> That import statement imports a module named areallyourpetsnamederic"
   ]
  },
  {
   "cell_type": "markdown",
   "id": "494b94a7",
   "metadata": {},
   "source": [
    "# 12. If you had a bacon() feature in a spam module, what would you call it after importing spam?\n",
    "\n",
    "we can call the bacon by spam.bacon()\n",
    "\n",
    "import spam\n",
    "\n",
    "spam.bacon()"
   ]
  },
  {
   "cell_type": "markdown",
   "id": "486d8983",
   "metadata": {},
   "source": [
    "# 13. What can you do to save a programme from crashing if it encounters an error?\n",
    "\n",
    "---> For this we use error handling techique which can handle the execption if error occurs"
   ]
  },
  {
   "cell_type": "code",
   "execution_count": null,
   "id": "a83cc8a8",
   "metadata": {},
   "outputs": [],
   "source": [
    "a = 10\n",
    "b = 0\n",
    "try:\n",
    "    z = a/b\n",
    "    print(z)\n",
    "except Exception as e:\n",
    "    print(\"Error is :\",e)"
   ]
  },
  {
   "cell_type": "markdown",
   "id": "b4c9c50d",
   "metadata": {},
   "source": [
    "# 14. What is the purpose of the try clause? What is the purpose of the except clause?\n",
    "\n",
    "---> Try clause is allow to run that code without program crashing until any error cause\n",
    "\n",
    "---> except clause works when error is occurs in the try clause and it can handle the error"
   ]
  }
 ],
 "metadata": {
  "kernelspec": {
   "display_name": "Python 3 (ipykernel)",
   "language": "python",
   "name": "python3"
  },
  "language_info": {
   "codemirror_mode": {
    "name": "ipython",
    "version": 3
   },
   "file_extension": ".py",
   "mimetype": "text/x-python",
   "name": "python",
   "nbconvert_exporter": "python",
   "pygments_lexer": "ipython3",
   "version": "3.9.13"
  }
 },
 "nbformat": 4,
 "nbformat_minor": 5
}
