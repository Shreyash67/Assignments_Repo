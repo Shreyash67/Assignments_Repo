{
 "cells": [
  {
   "cell_type": "markdown",
   "id": "2236b5c1",
   "metadata": {},
   "source": [
    "### 1. In Python, what is the difference between a built-in function and a user-defined function? Provide an example of each.\n",
    "\n",
    "---> Built-in function are basically predefine functions in which we cant write any extra code for it \n",
    "\n",
    "---> Eg: for calculating length, we use len() function\n",
    "\n",
    "---> user-define function are basically made by users, we use this using the def keyword\n",
    "\n",
    "---> Eg: def add():"
   ]
  },
  {
   "cell_type": "code",
   "execution_count": 1,
   "id": "29c7b0da",
   "metadata": {},
   "outputs": [
    {
     "name": "stdout",
     "output_type": "stream",
     "text": [
      "8\n"
     ]
    }
   ],
   "source": [
    "# Built-in functions\n",
    "str1 = \"Shreyash\"\n",
    "print(len(str1))"
   ]
  },
  {
   "cell_type": "code",
   "execution_count": 2,
   "id": "c82b3540",
   "metadata": {},
   "outputs": [
    {
     "name": "stdout",
     "output_type": "stream",
     "text": [
      "addition is : 10\n"
     ]
    }
   ],
   "source": [
    "# user define functions\n",
    "def add(a,b):\n",
    "    print(\"addition is :\",a+b)\n",
    "add(5,5)    "
   ]
  },
  {
   "cell_type": "markdown",
   "id": "81b81fd9",
   "metadata": {},
   "source": [
    "### 2. How can you pass arguments to a function in Python? Explain the difference between positional arguments and keyword arguments.\n",
    "\n",
    "---> Positional arguments : In this we pass the arguments according to there position\n",
    "\n",
    "---> keyword arguments : In this we pass the arguments by using the keywords "
   ]
  },
  {
   "cell_type": "code",
   "execution_count": 3,
   "id": "92a3e876",
   "metadata": {},
   "outputs": [
    {
     "name": "stdout",
     "output_type": "stream",
     "text": [
      "Multiplication is : 35\n"
     ]
    }
   ],
   "source": [
    "# Positional arguments\n",
    "def mul(a,b):\n",
    "    c = a*b\n",
    "    print(\"Multiplication is :\",c)\n",
    "mul(5,7)  # here now (a=5 and b=7)    "
   ]
  },
  {
   "cell_type": "code",
   "execution_count": 4,
   "id": "ccaf7367",
   "metadata": {},
   "outputs": [
    {
     "name": "stdout",
     "output_type": "stream",
     "text": [
      "My name is Shreyash and roll_no is 76\n"
     ]
    }
   ],
   "source": [
    "# Keyword arguments\n",
    "def student(name,roll_no):\n",
    "    print(f\"My name is {name} and roll_no is {roll_no}\")\n",
    "student(name=\"Shreyash\",roll_no=76)    "
   ]
  },
  {
   "cell_type": "markdown",
   "id": "21dd3e09",
   "metadata": {},
   "source": [
    "### 3. What is the purpose of the return statement in a function? Can a function have multiple return statements? Explain with an example.\n",
    "\n",
    "---> By the return function we can call the specific value which we want \n",
    "\n",
    "---> Function can have multiple return statement but we can use only one of it "
   ]
  },
  {
   "cell_type": "code",
   "execution_count": 5,
   "id": "dbad6ad7",
   "metadata": {},
   "outputs": [
    {
     "data": {
      "text/plain": [
       "'Division by Zero error'"
      ]
     },
     "execution_count": 5,
     "metadata": {},
     "output_type": "execute_result"
    }
   ],
   "source": [
    "def div(a,b):\n",
    "    if b==0:\n",
    "        return \"Division by Zero error\"\n",
    "    else:\n",
    "        return a/b\n",
    "div(5,0)    "
   ]
  },
  {
   "cell_type": "markdown",
   "id": "7485d43b",
   "metadata": {},
   "source": [
    "### 4. What are lambda functions in Python? How are they different from regular functions? Provide an example where a lambda function can be useful.\n",
    "\n",
    "---> lambda function is anonymous function which means that we cannot define it\n",
    "\n",
    "---> Basically normal function are use by def keyword like def function_name(): and then we have to write the code but\n",
    "in lambda function we cannot define the function, we directly write the code in it and it is very small in length. But it does not used in complex code"
   ]
  },
  {
   "cell_type": "code",
   "execution_count": 6,
   "id": "b95180f3",
   "metadata": {},
   "outputs": [
    {
     "name": "stdout",
     "output_type": "stream",
     "text": [
      "10\n"
     ]
    }
   ],
   "source": [
    "addition = lambda x,y : x+y\n",
    "print(addition(5,5))"
   ]
  },
  {
   "cell_type": "markdown",
   "id": "decd8b06",
   "metadata": {},
   "source": [
    "### 5. How does the concept of \"scope\" apply to functions in Python? Explain the difference between local scope and global scope.\n",
    "\n",
    "---> \"scope\" is a concept in which we can access the variable within the program. Scope have two types local scope and global scopes\n",
    "\n",
    "---> Local scope : In this the variable is define inside the function and we cannot access it outside the function\n",
    "\n",
    "---> global scope : In this the variable is define outside the function and we can access it inside the function also"
   ]
  },
  {
   "cell_type": "code",
   "execution_count": 7,
   "id": "aa636644",
   "metadata": {},
   "outputs": [
    {
     "name": "stdout",
     "output_type": "stream",
     "text": [
      "This variable is inside the function (local scope) and its value is : 5\n",
      "This variable is outside the function (global scope) and its value is : 10\n"
     ]
    }
   ],
   "source": [
    "x = 10 # Global scope\n",
    "def f1():\n",
    "    x = 5 #local scope\n",
    "    print(\"This variable is inside the function (local scope) and its value is :\",x)\n",
    "f1()\n",
    "print(\"This variable is outside the function (global scope) and its value is :\",x)"
   ]
  },
  {
   "cell_type": "markdown",
   "id": "8735407e",
   "metadata": {},
   "source": [
    "### 6. How can you use the \"return\" statement in a Python function to return multiple values?"
   ]
  },
  {
   "cell_type": "code",
   "execution_count": 8,
   "id": "754a0e58",
   "metadata": {},
   "outputs": [
    {
     "data": {
      "text/plain": [
       "{'Addition : ': 15,\n",
       " 'Subtraction : ': 5,\n",
       " 'Multiplication : ': 50,\n",
       " 'Division : ': 2.0}"
      ]
     },
     "execution_count": 8,
     "metadata": {},
     "output_type": "execute_result"
    }
   ],
   "source": [
    "def calculation(a,b):\n",
    "    addition = a+b\n",
    "    subtraction = a-b\n",
    "    multiplication = a*b\n",
    "    division = a/b\n",
    "    return {\n",
    "        \"Addition : \": addition,\n",
    "        \"Subtraction : \": subtraction,\n",
    "        \"Multiplication : \":multiplication,\n",
    "        \"Division : \":division\n",
    "    }\n",
    "\n",
    "num1 = 10\n",
    "num2 = 5\n",
    "calculation(num1,num2)"
   ]
  },
  {
   "cell_type": "markdown",
   "id": "e878d688",
   "metadata": {},
   "source": [
    "### 7. What is the difference between the \"pass by value\" and \"pass by reference\" concepts when it comes to function arguments in Python?\n",
    "\n",
    "---> Pass by value : When we pass any parameter to the function it creates the copy of it and it is use in the function \n",
    "if any changes are made in function then it is perticular for them it cannot change the original value of variable\n",
    "\n",
    "---> Pass by reference : In this we can change the original state of the object"
   ]
  },
  {
   "cell_type": "code",
   "execution_count": 9,
   "id": "6ddbe8a8",
   "metadata": {},
   "outputs": [
    {
     "name": "stdout",
     "output_type": "stream",
     "text": [
      "Updated value of x is : 15\n",
      "Original value of x is : 10\n"
     ]
    }
   ],
   "source": [
    "# Pass by value\n",
    "def value(x):\n",
    "    x = x+5\n",
    "    print(f\"Updated value of x is : {x}\")\n",
    "x = 10\n",
    "value(x)\n",
    "print(f\"Original value of x is : {x}\")"
   ]
  },
  {
   "cell_type": "code",
   "execution_count": 10,
   "id": "7c9f7335",
   "metadata": {},
   "outputs": [
    {
     "name": "stdout",
     "output_type": "stream",
     "text": [
      "Our list is : [1, 2, 3, 4, 5, 20]\n"
     ]
    }
   ],
   "source": [
    "# Pass by reference\n",
    "def list1(lst):\n",
    "    lst.append(20)\n",
    "my_list = [1,2,3,4,5]\n",
    "list1(my_list)\n",
    "print(f\"Our list is : {my_list}\")"
   ]
  },
  {
   "cell_type": "markdown",
   "id": "e18b7697",
   "metadata": {},
   "source": [
    "### 8. Create a function that can intake integer or decimal value and do following operations:\n",
    "\n",
    "a. Logarithmic function (log x)\n",
    "\n",
    "b. Exponential function (exp(x))\n",
    "\n",
    "c. Power function with base 2 (2^x)\n",
    "\n",
    "d. Square root"
   ]
  },
  {
   "cell_type": "code",
   "execution_count": 11,
   "id": "e630947a",
   "metadata": {},
   "outputs": [
    {
     "name": "stdout",
     "output_type": "stream",
     "text": [
      "Enter the value : 5\n"
     ]
    },
    {
     "data": {
      "text/plain": [
       "{'Log : ': 0.6989700043360189,\n",
       " 'Expo : ': 148.4131591025766,\n",
       " 'Power : ': 32.0,\n",
       " 'Square root : ': 2.23606797749979}"
      ]
     },
     "execution_count": 11,
     "metadata": {},
     "output_type": "execute_result"
    }
   ],
   "source": [
    "import math\n",
    "def cal(value):\n",
    "    logarithm = math.log10(value)\n",
    "    expo = math.exp(value)\n",
    "    power = math.pow(2,value)\n",
    "    sq = math.sqrt(value)\n",
    "    \n",
    "    return {\n",
    "        \"Log : \": logarithm,\n",
    "        \"Expo : \": expo,\n",
    "        \"Power : \": power,\n",
    "        \"Square root : \": sq\n",
    "    }\n",
    "    \n",
    "value = float(input(\"Enter the value : \"))\n",
    "cal(value)"
   ]
  },
  {
   "cell_type": "markdown",
   "id": "1e07db58",
   "metadata": {},
   "source": [
    "### 9. Create a function that takes a full name as an argument and returns first name and last name."
   ]
  },
  {
   "cell_type": "code",
   "execution_count": 12,
   "id": "b6417390",
   "metadata": {},
   "outputs": [
    {
     "data": {
      "text/plain": [
       "{'Firts name : ': 'Shreyash', 'Last name : ': 'Waralkar'}"
      ]
     },
     "execution_count": 12,
     "metadata": {},
     "output_type": "execute_result"
    }
   ],
   "source": [
    "def full_name(fn):\n",
    "    first_name,last_name = fn.split(\" \")\n",
    "    return{\n",
    "        \"Firts name : \": first_name,\n",
    "        \"Last name : \": last_name\n",
    "    }\n",
    "\n",
    "fn = \"Shreyash Waralkar\"\n",
    "full_name(fn)"
   ]
  }
 ],
 "metadata": {
  "kernelspec": {
   "display_name": "Python 3 (ipykernel)",
   "language": "python",
   "name": "python3"
  },
  "language_info": {
   "codemirror_mode": {
    "name": "ipython",
    "version": 3
   },
   "file_extension": ".py",
   "mimetype": "text/x-python",
   "name": "python",
   "nbconvert_exporter": "python",
   "pygments_lexer": "ipython3",
   "version": "3.9.13"
  }
 },
 "nbformat": 4,
 "nbformat_minor": 5
}
