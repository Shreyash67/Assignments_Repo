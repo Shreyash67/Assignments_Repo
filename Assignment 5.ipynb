{
 "cells": [
  {
   "cell_type": "markdown",
   "id": "7ab32b87",
   "metadata": {},
   "source": [
    "## 1. What does an empty dictionary's code look like?\n",
    "\n",
    "---> An empty dictionary look like : {} (Two curly brackets)"
   ]
  },
  {
   "cell_type": "markdown",
   "id": "ff937ae7",
   "metadata": {},
   "source": [
    "## 2. What is the value of a dictionary value with the key 'foo' and the value 42?\n",
    "\n",
    "---> {'foo':42}"
   ]
  },
  {
   "cell_type": "code",
   "execution_count": 1,
   "id": "ef05260a",
   "metadata": {},
   "outputs": [
    {
     "name": "stdout",
     "output_type": "stream",
     "text": [
      "{'foo': 42}\n"
     ]
    }
   ],
   "source": [
    "dict1 = {\"foo\":42}\n",
    "print(dict1)"
   ]
  },
  {
   "cell_type": "markdown",
   "id": "4875d06c",
   "metadata": {},
   "source": [
    "## 3.What is the most significant distinction between a dictionary and a list?\n",
    "\n",
    "---> Dictionary are unorder and represented by curly brackets {}\n",
    "\n",
    "---> Lists are order and represented by square brackets []"
   ]
  },
  {
   "cell_type": "markdown",
   "id": "baf8ec24",
   "metadata": {},
   "source": [
    "## 4.What happens if you try to access spam ['foo'] if spam is {'bar':100} ?\n",
    "\n",
    "---> We will get key error : KeyError: 'foo'"
   ]
  },
  {
   "cell_type": "code",
   "execution_count": 2,
   "id": "117b3a49",
   "metadata": {},
   "outputs": [
    {
     "ename": "KeyError",
     "evalue": "'foo'",
     "output_type": "error",
     "traceback": [
      "\u001b[1;31m---------------------------------------------------------------------------\u001b[0m",
      "\u001b[1;31mKeyError\u001b[0m                                  Traceback (most recent call last)",
      "\u001b[1;32m~\\AppData\\Local\\Temp\\ipykernel_26904\\274828795.py\u001b[0m in \u001b[0;36m<module>\u001b[1;34m\u001b[0m\n\u001b[0;32m      1\u001b[0m \u001b[1;31m# KeyError: 'foo' Error is showing....\u001b[0m\u001b[1;33m\u001b[0m\u001b[1;33m\u001b[0m\u001b[0m\n\u001b[0;32m      2\u001b[0m \u001b[0mspam\u001b[0m \u001b[1;33m=\u001b[0m \u001b[1;33m{\u001b[0m\u001b[1;34m\"bar\"\u001b[0m\u001b[1;33m:\u001b[0m\u001b[1;36m100\u001b[0m\u001b[1;33m}\u001b[0m\u001b[1;33m\u001b[0m\u001b[1;33m\u001b[0m\u001b[0m\n\u001b[1;32m----> 3\u001b[1;33m \u001b[0mspam\u001b[0m\u001b[1;33m[\u001b[0m\u001b[1;34m\"foo\"\u001b[0m\u001b[1;33m]\u001b[0m\u001b[1;33m\u001b[0m\u001b[1;33m\u001b[0m\u001b[0m\n\u001b[0m",
      "\u001b[1;31mKeyError\u001b[0m: 'foo'"
     ]
    }
   ],
   "source": [
    "# KeyError: 'foo' Error is showing....\n",
    "spam = {\"bar\":100}\n",
    "spam[\"foo\"]"
   ]
  },
  {
   "cell_type": "markdown",
   "id": "335bdcda",
   "metadata": {},
   "source": [
    "## 5.if a dictionary is stored in spam,what is the difference between the expressions 'cat' in spam and 'cat' in spam.keys() ?\n",
    "\n",
    "---> the expression \"cat\" in spam check the \"cat\" is present in spam dictionary or not. If it is present then it shows the\n",
    "Boolean result as True if not then it shows the Bollean result as False\n",
    "\n",
    "---> In 'cat' in spam.keys() expression check whether the cat is present in the key of spam dictionary or not\n",
    "\n",
    "---> Mainly there is no any difference"
   ]
  },
  {
   "cell_type": "markdown",
   "id": "aa13b979",
   "metadata": {},
   "source": [
    "## 6.if a dictionary is stored in spam,what is the difference between the expressions 'cat' in spam and 'cat' in spam.values() ?\n",
    "\n",
    "---> the expression \"cat\" in spam check the \"cat\" is present in spam dictionary or not. If it is present then it shows the Boolean result as True if not then it shows the Bollean result as False\n",
    "\n",
    "--->  In 'cat' in spam.values() expression check whether the cat is present in the value of spam dictionary or not"
   ]
  },
  {
   "cell_type": "markdown",
   "id": "c8b17d2d",
   "metadata": {},
   "source": [
    "## 7.what is a shortcut for the following code ?\n",
    "if 'color' not in spam:\n",
    "\n",
    "spam['color'] ='black'"
   ]
  },
  {
   "cell_type": "code",
   "execution_count": 3,
   "id": "fbeabc7e",
   "metadata": {},
   "outputs": [
    {
     "name": "stdout",
     "output_type": "stream",
     "text": [
      "{'Quality': 'Good'}\n",
      "{'Quality': 'Good', 'color': 'black'}\n"
     ]
    }
   ],
   "source": [
    "spam = {\"Quality\":\"Good\"}\n",
    "print(spam)\n",
    "spam.setdefault(\"color\",\"black\")\n",
    "print(spam)"
   ]
  },
  {
   "cell_type": "markdown",
   "id": "2943a10d",
   "metadata": {},
   "source": [
    "## 8.How do you 'pretty print' dictionary values using which modules and function ?\n",
    "\n",
    "---> We can pretty print dictionary using three function\n",
    "\n",
    "---> 1. using pprint() function of pprint module\n",
    "\n",
    "---> 2. dumps() method of json module\n",
    "\n",
    "---> 3. dumps() method of  yaml module"
   ]
  },
  {
   "cell_type": "code",
   "execution_count": 4,
   "id": "8a357417",
   "metadata": {},
   "outputs": [],
   "source": [
    "dict1 = [\n",
    "    {\"Name\":\"Shreyash\",\"Roll_no\":76,\"Residence\":{\"city\":\"Nerul\",\"country\":\"India\"}},\n",
    "    {\"Name\":\"Riddesh\",\"Roll_no\":67,\"Residence\":{\"city\":\"Panvel\",\"country\":\"India\"}},\n",
    "    {\"Name\":\"Siddesh\",\"Roll_no\":39,\"Residence\":{\"city\":\"Juinagar\",\"country\":\"India\"}},\n",
    "    {\"Name\":\"Yashraj\",\"Roll_no\":78,\"Residence\":{\"city\":\"Kharghar\",\"country\":\"India\"}}\n",
    "]"
   ]
  },
  {
   "cell_type": "code",
   "execution_count": 5,
   "id": "97de569e",
   "metadata": {},
   "outputs": [
    {
     "name": "stdout",
     "output_type": "stream",
     "text": [
      "Original Dictionary : \n",
      " [{'Name': 'Shreyash', 'Roll_no': 76, 'Residence': {'city': 'Nerul', 'country': 'India'}}, {'Name': 'Riddesh', 'Roll_no': 67, 'Residence': {'city': 'Panvel', 'country': 'India'}}, {'Name': 'Siddesh', 'Roll_no': 39, 'Residence': {'city': 'Juinagar', 'country': 'India'}}, {'Name': 'Yashraj', 'Roll_no': 78, 'Residence': {'city': 'Kharghar', 'country': 'India'}}]\n",
      "-----------------------------------------------------------------------------------------------------------------------------\n",
      "Using pprint() Function : \n",
      " [{'Name': 'Shreyash', 'Roll_no': 76, 'Residence': {'city': 'Nerul', 'country': 'India'}}, {'Name': 'Riddesh', 'Roll_no': 67, 'Residence': {'city': 'Panvel', 'country': 'India'}}, {'Name': 'Siddesh', 'Roll_no': 39, 'Residence': {'city': 'Juinagar', 'country': 'India'}}, {'Name': 'Yashraj', 'Roll_no': 78, 'Residence': {'city': 'Kharghar', 'country': 'India'}}]\n",
      "[{'Name': 'Shreyash',\n",
      "  'Residence': {'city': 'Nerul', 'country': 'India'},\n",
      "  'Roll_no': 76},\n",
      " {'Name': 'Riddesh',\n",
      "  'Residence': {'city': 'Panvel', 'country': 'India'},\n",
      "  'Roll_no': 67},\n",
      " {'Name': 'Siddesh',\n",
      "  'Residence': {'city': 'Juinagar', 'country': 'India'},\n",
      "  'Roll_no': 39},\n",
      " {'Name': 'Yashraj',\n",
      "  'Residence': {'city': 'Kharghar', 'country': 'India'},\n",
      "  'Roll_no': 78}]\n",
      "-----------------------------------------------------------------------------------------------------------------------------\n",
      "Using dumps method :  [{'Name': 'Shreyash', 'Roll_no': 76, 'Residence': {'city': 'Nerul', 'country': 'India'}}, {'Name': 'Riddesh', 'Roll_no': 67, 'Residence': {'city': 'Panvel', 'country': 'India'}}, {'Name': 'Siddesh', 'Roll_no': 39, 'Residence': {'city': 'Juinagar', 'country': 'India'}}, {'Name': 'Yashraj', 'Roll_no': 78, 'Residence': {'city': 'Kharghar', 'country': 'India'}}]\n",
      "[\n",
      "    {\n",
      "        \"Name\": \"Shreyash\",\n",
      "        \"Roll_no\": 76,\n",
      "        \"Residence\": {\n",
      "            \"city\": \"Nerul\",\n",
      "            \"country\": \"India\"\n",
      "        }\n",
      "    },\n",
      "    {\n",
      "        \"Name\": \"Riddesh\",\n",
      "        \"Roll_no\": 67,\n",
      "        \"Residence\": {\n",
      "            \"city\": \"Panvel\",\n",
      "            \"country\": \"India\"\n",
      "        }\n",
      "    },\n",
      "    {\n",
      "        \"Name\": \"Siddesh\",\n",
      "        \"Roll_no\": 39,\n",
      "        \"Residence\": {\n",
      "            \"city\": \"Juinagar\",\n",
      "            \"country\": \"India\"\n",
      "        }\n",
      "    },\n",
      "    {\n",
      "        \"Name\": \"Yashraj\",\n",
      "        \"Roll_no\": 78,\n",
      "        \"Residence\": {\n",
      "            \"city\": \"Kharghar\",\n",
      "            \"country\": \"India\"\n",
      "        }\n",
      "    }\n",
      "]\n",
      "-----------------------------------------------------------------------------------------------------------------------------\n",
      "Using yaml module\n",
      "- Name: Shreyash\n",
      "  Residence:\n",
      "    city: Nerul\n",
      "    country: India\n",
      "  Roll_no: 76\n",
      "- Name: Riddesh\n",
      "  Residence:\n",
      "    city: Panvel\n",
      "    country: India\n",
      "  Roll_no: 67\n",
      "- Name: Siddesh\n",
      "  Residence:\n",
      "    city: Juinagar\n",
      "    country: India\n",
      "  Roll_no: 39\n",
      "- Name: Yashraj\n",
      "  Residence:\n",
      "    city: Kharghar\n",
      "    country: India\n",
      "  Roll_no: 78\n",
      "\n",
      "-----------------------------------------------------------------------------------------------------------------------------\n"
     ]
    }
   ],
   "source": [
    "print(\"Original Dictionary : \\n\",dict1)\n",
    "print(\"-\"*125)\n",
    "import pprint \n",
    "print(\"Using pprint() Function : \\n\",dict1)\n",
    "pprint.pprint(dict1)\n",
    "print(\"-\"*125)\n",
    "import json\n",
    "print(\"Using dumps method : \",dict1)\n",
    "print(json.dumps(dict1,indent=4))\n",
    "print(\"-\"*125)\n",
    "import yaml\n",
    "print(\"Using yaml module\")\n",
    "print(yaml.dump(dict1))\n",
    "print(\"-\"*125)"
   ]
  }
 ],
 "metadata": {
  "kernelspec": {
   "display_name": "Python 3 (ipykernel)",
   "language": "python",
   "name": "python3"
  },
  "language_info": {
   "codemirror_mode": {
    "name": "ipython",
    "version": 3
   },
   "file_extension": ".py",
   "mimetype": "text/x-python",
   "name": "python",
   "nbconvert_exporter": "python",
   "pygments_lexer": "ipython3",
   "version": "3.9.13"
  }
 },
 "nbformat": 4,
 "nbformat_minor": 5
}
