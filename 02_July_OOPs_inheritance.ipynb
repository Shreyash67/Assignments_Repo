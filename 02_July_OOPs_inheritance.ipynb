{
 "cells": [
  {
   "cell_type": "markdown",
   "id": "292bdbdd",
   "metadata": {},
   "source": [
    "### 1. Explain what inheritance is in object-oriented programming and why it is used.\n",
    "\n",
    "---> Inheritance can allows the properties of class to the next class\n",
    "\n",
    "eg : child class have properties of their parent class\n",
    "\n",
    "---> We used it because it provide us code reusability .polymorphism etc"
   ]
  },
  {
   "cell_type": "markdown",
   "id": "f070851d",
   "metadata": {},
   "source": [
    "### 2. Discuss the concept of single inheritance and multiple inheritance, highlighting their differences and advantages.\n",
    "\n",
    "- Single inheritance : when a derivrd class is inherit from only one base class is called single inheritance\n",
    "\n",
    "- multiple inheritance : When a derived class is inherit from multiple classes is called multiple inheritance\n",
    "\n",
    "- Difference : \n",
    "\n",
    "---> Single inheritance inheriting from single base class where multiple inheritance inheriting from multiple base classes\n",
    "\n",
    "---> Single inheritance is more simple than multiple inheritance (because it is complex)\n",
    "\n",
    "- Advantages :\n",
    "\n",
    "---> Single inheritance : Simplicity, code reusability\n",
    "\n",
    "---> Multiple inheritance : Code resuability,increase functionality by using multiple class"
   ]
  },
  {
   "cell_type": "markdown",
   "id": "f05edccf",
   "metadata": {},
   "source": [
    "### 3. Explain the terms \"base class\" and \"derived class\" in the context of inheritance.\n",
    "\n",
    "- Base class : Base class is just like parent class where their properties are access by the derived class (child class) \n",
    "- Derived class : Derived class is the child class which can inherit the properties of base class"
   ]
  },
  {
   "cell_type": "markdown",
   "id": "462d3838",
   "metadata": {},
   "source": [
    "### 4. What is the significance of the \"protected\" access modifier in inheritance? How does it differ from \"private\" and \"public\" modifiers?\n",
    "\n",
    "- Protected access modifiers Significance : \n",
    "\n",
    "---> Protected access modifiers can access only in base class and derived class which is inheriting to their parent (base) class\n",
    "\n",
    "---> It is shown by _variablename in formate eg: _toy = 2\n",
    "\n",
    "---> By protected access modifiers , Encapsulation is occurs which means that it can also access by child class \n",
    "\n",
    "- How they are different from private and public\n",
    "\n",
    "---> Private access modifiers are basically written in double underscore and they doent access easily\n",
    "\n",
    "we can access them by formate : _ClassName__VariableName\n",
    "\n",
    "---> Public access modifiers can access easily by everyone "
   ]
  },
  {
   "cell_type": "code",
   "execution_count": 1,
   "id": "b2c81192",
   "metadata": {},
   "outputs": [
    {
     "data": {
      "text/plain": [
       "'Shreyash'"
      ]
     },
     "execution_count": 1,
     "metadata": {},
     "output_type": "execute_result"
    }
   ],
   "source": [
    "class Person:\n",
    "    def __init__(self,name):\n",
    "        self.name=name      #Public varaible\n",
    "        \n",
    "class Student(Person):\n",
    "    def __init__(self,name):\n",
    "        super().__init__(name)\n",
    "        \n",
    "    def display(self):\n",
    "        print(f\"My name is {self.name}\")\n",
    "\n",
    "s1 = Student(\"Shreyash\")\n",
    "s1.name          #Public variable can access by this "
   ]
  },
  {
   "cell_type": "code",
   "execution_count": 2,
   "id": "e7ca3613",
   "metadata": {},
   "outputs": [
    {
     "data": {
      "text/plain": [
       "'Shreyash'"
      ]
     },
     "execution_count": 2,
     "metadata": {},
     "output_type": "execute_result"
    }
   ],
   "source": [
    "class Person:\n",
    "    def __init__(self,name):\n",
    "        self._name=name      #Protected varaible\n",
    "        \n",
    "class Student(Person):\n",
    "    def __init__(self,name):\n",
    "        super().__init__(name)\n",
    "        \n",
    "    def display(self):\n",
    "        print(f\"My name is {self.name}\")\n",
    "\n",
    "s1 = Student(\"Shreyash\")\n",
    "s1._name     #Protected variable access by this (If it is inherit from parent class)"
   ]
  },
  {
   "cell_type": "code",
   "execution_count": 3,
   "id": "968cbf11",
   "metadata": {},
   "outputs": [
    {
     "data": {
      "text/plain": [
       "'Shreyash'"
      ]
     },
     "execution_count": 3,
     "metadata": {},
     "output_type": "execute_result"
    }
   ],
   "source": [
    "class Person:\n",
    "    def __init__(self,name):\n",
    "        self.__name=name      #Private varaible\n",
    "        \n",
    "class Student(Person):\n",
    "    def __init__(self,name):\n",
    "        super().__init__(name)\n",
    "        \n",
    "    def display(self):\n",
    "        print(f\"My name is {self.name}\")\n",
    "\n",
    "s1 = Student(\"Shreyash\")\n",
    "s1._Person__name     #Private variables can access by this "
   ]
  },
  {
   "cell_type": "markdown",
   "id": "f1b0943c",
   "metadata": {},
   "source": [
    "### 5. What is the purpose of the \"super\" keyword in inheritance? Provide an example.\n",
    "\n",
    "---> Super() keyword is basically used to access the attributes or methods (if both are same in class) of parent class"
   ]
  },
  {
   "cell_type": "code",
   "execution_count": 4,
   "id": "71e7d5c1",
   "metadata": {},
   "outputs": [],
   "source": [
    "class Parent:\n",
    "    def __init__(self,name,age):\n",
    "        self.name=name\n",
    "        self.age=age\n",
    "        \n",
    "    def abilitiy(self):\n",
    "        print(f\"{self.name} can swim\")\n",
    "        \n",
    "class Child(Parent):\n",
    "    def __init__(self,name,age):\n",
    "        super().__init__(name,age)\n",
    "     \n",
    "    def ability(self):\n",
    "        super().abilitiy()\n",
    "        print(f\"{self.name} also can dance\")"
   ]
  },
  {
   "cell_type": "code",
   "execution_count": 5,
   "id": "b4c983c2",
   "metadata": {},
   "outputs": [
    {
     "name": "stdout",
     "output_type": "stream",
     "text": [
      "Shreyash can swim\n",
      "Shreyash also can dance\n"
     ]
    }
   ],
   "source": [
    "child = Child(\"Shreyash\",19)\n",
    "child.ability()"
   ]
  },
  {
   "cell_type": "markdown",
   "id": "75404dd2",
   "metadata": {},
   "source": [
    "### 6. Create a base class called \"Vehicle\" with attributes like \"make\", \"model\", and \"year\".Then, create a derived class called \"Car\" that inherits from \"Vehicle\" and adds an attribute called \"fuel_type\". Implement appropriate methods in both classes.                                      "
   ]
  },
  {
   "cell_type": "code",
   "execution_count": 6,
   "id": "7fc880e4",
   "metadata": {},
   "outputs": [],
   "source": [
    "class Vehicle:\n",
    "    def __init__(self,make,model,year):\n",
    "        self.make=make\n",
    "        self.model=model\n",
    "        self.year=year\n",
    "        \n",
    "    def display_info(self):\n",
    "        print(f\"Make : {self.make}\")\n",
    "        print(f\"Model : {self.model}\")\n",
    "        print(f\"Year : {self.year}\")\n",
    "        \n",
    "class Car(Vehicle):\n",
    "    def __init__(self,make,model,year,fuel_type):\n",
    "        super().__init__(make,model,year)\n",
    "        self.fuel_type=fuel_type  \n",
    "        \n",
    "    def display_info(self):\n",
    "        super().display_info()\n",
    "        print(f\"Fuel_type : {self.fuel_type}\")"
   ]
  },
  {
   "cell_type": "code",
   "execution_count": 7,
   "id": "0bef5e4e",
   "metadata": {},
   "outputs": [],
   "source": [
    "car1=Car(\"Ford\",\"Mustang\",2023,\"Petrol\")"
   ]
  },
  {
   "cell_type": "code",
   "execution_count": 8,
   "id": "c3c6af71",
   "metadata": {},
   "outputs": [
    {
     "name": "stdout",
     "output_type": "stream",
     "text": [
      "Make : Ford\n",
      "Model : Mustang\n",
      "Year : 2023\n",
      "Fuel_type : Petrol\n"
     ]
    }
   ],
   "source": [
    "car1.display_info()"
   ]
  },
  {
   "cell_type": "markdown",
   "id": "011870b3",
   "metadata": {},
   "source": [
    "### 7. Create a base class called \"Employee\" with attributes like \"name\" and \"salary.\" Derive two classes, \"Manager\" and \"Developer,\" from \"Employee.\" Add an additional attribute called \"department\" for the \"Manager\" class and \"programming_language\" for the \"Developer\" class."
   ]
  },
  {
   "cell_type": "code",
   "execution_count": 9,
   "id": "e807076d",
   "metadata": {},
   "outputs": [],
   "source": [
    "class Employee:\n",
    "    def __init__(self,name,salary):\n",
    "        self.name=name\n",
    "        self.salary=salary\n",
    "        \n",
    "    def display_info(self):\n",
    "        print(f\"Name : {self.name}\")\n",
    "        print(f\"Salary : {self.salary}\")\n",
    "\n",
    "class Manager(Employee):\n",
    "    def __init__(self,name,salary,department):\n",
    "        super().__init__(name,salary)\n",
    "        self.department=department\n",
    "        \n",
    "    def display_info(self):\n",
    "        super().display_info()\n",
    "        print(f\"Department : {self.department}\")\n",
    "\n",
    "class Developer(Employee):\n",
    "    def __init__(self,name,salary,programming_language):\n",
    "        super().__init__(name,salary)\n",
    "        self.programming_language=programming_language\n",
    "        \n",
    "    def display_info(self):\n",
    "        super().display_info()\n",
    "        print(f\"Programming Language : {self.programming_language}\")  "
   ]
  },
  {
   "cell_type": "code",
   "execution_count": 10,
   "id": "845a74ea",
   "metadata": {},
   "outputs": [],
   "source": [
    "manager = Manager(\"Rakesh\",50000,\"IT\")\n",
    "developer = Developer(\"Raj\",25000,\"Python\")"
   ]
  },
  {
   "cell_type": "code",
   "execution_count": 11,
   "id": "014916ec",
   "metadata": {},
   "outputs": [
    {
     "name": "stdout",
     "output_type": "stream",
     "text": [
      "Name : Rakesh\n",
      "Salary : 50000\n",
      "Department : IT\n"
     ]
    }
   ],
   "source": [
    "manager.display_info()"
   ]
  },
  {
   "cell_type": "code",
   "execution_count": 12,
   "id": "d31f6f6d",
   "metadata": {},
   "outputs": [
    {
     "name": "stdout",
     "output_type": "stream",
     "text": [
      "Name : Raj\n",
      "Salary : 25000\n",
      "Programming Language : Python\n"
     ]
    }
   ],
   "source": [
    "developer.display_info()"
   ]
  },
  {
   "cell_type": "markdown",
   "id": "9af8ecc8",
   "metadata": {},
   "source": [
    "### 8. Design a base class called \"Shape\" with attributes like \"colour\" and \"border_width.\" Create derived classes, \"Rectangle\" and \"Circle,\" that inherit from \"Shape\" and add specific attributes like \"length\" and \"width\" for the \"Rectangle\" class and \"radius\" for the \"Circle\" class."
   ]
  },
  {
   "cell_type": "code",
   "execution_count": 13,
   "id": "37ae25a9",
   "metadata": {},
   "outputs": [],
   "source": [
    "class Shape:\n",
    "    def __init__(self,color,border_width):\n",
    "        self.color=color\n",
    "        self.border_width=border_width\n",
    "        \n",
    "    def display_info(self):\n",
    "        print(f\"Color : {self.color}\")\n",
    "        print(f\"Border Width : {self.border_width}\")\n",
    "        \n",
    "class Rectangle(Shape):\n",
    "    def __init__(self,color,border_width,length,width):\n",
    "        super().__init__(color,border_width)\n",
    "        self.length=length\n",
    "        self.width=width\n",
    "        \n",
    "    def display_info(self):\n",
    "        super().display_info()\n",
    "        print(f\"Length : {self.length}\")\n",
    "        print(f\"Width : {self.width}\")\n",
    "\n",
    "class Circle(Shape):\n",
    "    def __init__(self,color,border_width,radius):\n",
    "        super().__init__(color,border_width)\n",
    "        self.radius=radius\n",
    "        \n",
    "    def display_info(self):\n",
    "        super().display_info()\n",
    "        print(f\"Radius : {self.radius}\")"
   ]
  },
  {
   "cell_type": "code",
   "execution_count": 14,
   "id": "4bde7fe2",
   "metadata": {},
   "outputs": [],
   "source": [
    "rect = Rectangle(\"Red\",3,10,5)\n",
    "cir = Circle(\"Blue\",3,5)"
   ]
  },
  {
   "cell_type": "code",
   "execution_count": 15,
   "id": "b4e0a798",
   "metadata": {},
   "outputs": [
    {
     "name": "stdout",
     "output_type": "stream",
     "text": [
      "Color : Red\n",
      "Border Width : 3\n",
      "Length : 10\n",
      "Width : 5\n"
     ]
    }
   ],
   "source": [
    "rect.display_info()"
   ]
  },
  {
   "cell_type": "code",
   "execution_count": 16,
   "id": "e38fe108",
   "metadata": {},
   "outputs": [
    {
     "name": "stdout",
     "output_type": "stream",
     "text": [
      "Color : Blue\n",
      "Border Width : 3\n",
      "Radius : 5\n"
     ]
    }
   ],
   "source": [
    "cir.display_info()"
   ]
  },
  {
   "cell_type": "markdown",
   "id": "614b6fcd",
   "metadata": {},
   "source": [
    "### 9. Create a base class called \"Device\" with attributes like \"brand\" and \"model.\" Derive two classes, \"Phone\" and \"Tablet,\" from \"Device.\" Add specific attributes like \"screen_size\" for the \"Phone\" class and \"battery_capacity\" for the \"Tablet\" class."
   ]
  },
  {
   "cell_type": "code",
   "execution_count": 17,
   "id": "58f3df1f",
   "metadata": {},
   "outputs": [],
   "source": [
    "class Device:\n",
    "    def __init__(self,brand,model):\n",
    "        self.brand=brand\n",
    "        self.model=model\n",
    "    \n",
    "    def display_info(self):\n",
    "        print(f\"Brand : {self.brand}\")\n",
    "        print(f\"Model : {self.model}\")\n",
    "    \n",
    "class Phone(Device):\n",
    "    def __init__(self,brand,model,screen_size):\n",
    "        super().__init__(brand,model)\n",
    "        self.screen_size=screen_size\n",
    "        \n",
    "    def display_info(self):\n",
    "        super().display_info()\n",
    "        print(f\"Screen Size : {self.screen_size}\")\n",
    "\n",
    "class Tablet(Device):\n",
    "    def __init__(self,brand,model,battery_capacity):\n",
    "        super().__init__(brand,model)\n",
    "        self.battery_capacity=battery_capacity\n",
    "        \n",
    "    def display_info(self):\n",
    "        super().display_info()\n",
    "        print(f\"Battery Capacity : {self.battery_capacity}\")"
   ]
  },
  {
   "cell_type": "code",
   "execution_count": 18,
   "id": "8fe48fa6",
   "metadata": {},
   "outputs": [],
   "source": [
    "phn = Phone(\"Apple\",\"Iphone 14\",\"5.1 inches\")\n",
    "tab = Tablet(\"Samsung\", \"Galaxy Tab S7\", \"8,000 mAh\")"
   ]
  },
  {
   "cell_type": "code",
   "execution_count": 19,
   "id": "70c81113",
   "metadata": {},
   "outputs": [
    {
     "name": "stdout",
     "output_type": "stream",
     "text": [
      "Brand : Apple\n",
      "Model : Iphone 14\n",
      "Screen Size : 5.1 inches\n"
     ]
    }
   ],
   "source": [
    "phn.display_info()"
   ]
  },
  {
   "cell_type": "code",
   "execution_count": 20,
   "id": "39e0936b",
   "metadata": {},
   "outputs": [
    {
     "name": "stdout",
     "output_type": "stream",
     "text": [
      "Brand : Samsung\n",
      "Model : Galaxy Tab S7\n",
      "Battery Capacity : 8,000 mAh\n"
     ]
    }
   ],
   "source": [
    "tab.display_info()"
   ]
  },
  {
   "cell_type": "markdown",
   "id": "6849055f",
   "metadata": {},
   "source": [
    "### 10. Create a base class called \"BankAccount\" with attributes like \"account_number\" and \"balance.\" Derive two classes, \"SavingsAccount\" and \"CheckingAccount,\" from \"BankAccount.\" Add specific methods like \"calculate_interest\" for the \"SavingsAccount\" class and \"deduct_fees\" for the \"CheckingAccount\" class."
   ]
  },
  {
   "cell_type": "code",
   "execution_count": 21,
   "id": "15d46175",
   "metadata": {},
   "outputs": [],
   "source": [
    "class BankAccount:\n",
    "    def __init__(self,account_number,balance):\n",
    "        self.account_number=account_number\n",
    "        self.balance=balance\n",
    "                \n",
    "class SavingAccount(BankAccount):\n",
    "    def __init__(self,account_number,balance):\n",
    "        super().__init__(account_number,balance)\n",
    "        \n",
    "    def calculate_interest(self,rate):\n",
    "        interest = self.balance*(rate/100)\n",
    "        self.balance = self.balance + interest\n",
    "        print(f\"New balance : ${self.balance}\")\n",
    "                \n",
    "class CheckingAccount(BankAccount):\n",
    "    def __init__(self,account_number,balance):\n",
    "        super().__init__(account_number,balance) \n",
    "        \n",
    "    def deduct_fees(self,amt):\n",
    "        if self.balance>=amt:\n",
    "            self.balance=self.balance-amt\n",
    "            print(f\"New balance : ${self.balance}\")\n",
    "        else:\n",
    "            print(\"Insufficient balance to deduct the amount!\")"
   ]
  },
  {
   "cell_type": "code",
   "execution_count": 22,
   "id": "5ae19bd2",
   "metadata": {},
   "outputs": [
    {
     "name": "stdout",
     "output_type": "stream",
     "text": [
      "New balance : $5100.0\n"
     ]
    }
   ],
   "source": [
    "sa = SavingAccount(\"12345\",5000)\n",
    "sa.calculate_interest(2)"
   ]
  },
  {
   "cell_type": "code",
   "execution_count": 23,
   "id": "d8abbeb2",
   "metadata": {},
   "outputs": [
    {
     "name": "stdout",
     "output_type": "stream",
     "text": [
      "New balance : $3000\n"
     ]
    }
   ],
   "source": [
    "ca = CheckingAccount(\"12345\",5000)\n",
    "ca.deduct_fees(2000)"
   ]
  }
 ],
 "metadata": {
  "kernelspec": {
   "display_name": "Python 3 (ipykernel)",
   "language": "python",
   "name": "python3"
  },
  "language_info": {
   "codemirror_mode": {
    "name": "ipython",
    "version": 3
   },
   "file_extension": ".py",
   "mimetype": "text/x-python",
   "name": "python",
   "nbconvert_exporter": "python",
   "pygments_lexer": "ipython3",
   "version": "3.9.13"
  }
 },
 "nbformat": 4,
 "nbformat_minor": 5
}
