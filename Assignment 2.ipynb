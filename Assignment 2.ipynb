{
 "cells": [
  {
   "cell_type": "markdown",
   "id": "321c45cd",
   "metadata": {},
   "source": [
    "# 1.What are the two values of the Boolean data type? How do you write them?\n",
    "---> The Two values of Boolean Data types are \"True\" and \"False\".\n",
    "\n",
    "---> These are generally used to check the condition or value is Correct or not. if it is correct then \n",
    "it show the Output as \"True\" and if it is not correct then it shows \"False\"."
   ]
  },
  {
   "cell_type": "code",
   "execution_count": 1,
   "id": "cf22218f",
   "metadata": {},
   "outputs": [
    {
     "name": "stdout",
     "output_type": "stream",
     "text": [
      "True\n",
      "False\n"
     ]
    }
   ],
   "source": [
    "x = 5\n",
    "z = (x==5)\n",
    "print(z)\n",
    "z = (x!=5)\n",
    "print(z)"
   ]
  },
  {
   "cell_type": "markdown",
   "id": "9f6f1576",
   "metadata": {},
   "source": [
    "# 2. What are the three different types of Boolean operators?\n",
    "---> Three Different Types of Boolean operators are \"AND\",\"OR\",\"NOT\"\n",
    "\n",
    "---> AND OPERATOR : AND operator return True when the both the operands are true otherwise it returns false.\n",
    "\n",
    "---> OR OPERATOR : OR operator returns True when one of the operand is True.\n",
    "\n",
    "---> NOT OPERATOR : It return the operand True as False and False as True (Opposite works)\n"
   ]
  },
  {
   "cell_type": "code",
   "execution_count": 2,
   "id": "2c65d0f0",
   "metadata": {},
   "outputs": [
    {
     "name": "stdout",
     "output_type": "stream",
     "text": [
      "---AND---\n",
      "True\n",
      "\n",
      "---OR---\n",
      "True\n",
      "\n",
      "---NOT---\n",
      "False\n"
     ]
    }
   ],
   "source": [
    "x = 5\n",
    "y = 5\n",
    "c = 3\n",
    "print(\"---AND---\")\n",
    "z = (x==5 and y==5)\n",
    "print(z)\n",
    "print()\n",
    "print(\"---OR---\")\n",
    "z = (x==5 or y==4)\n",
    "print(z)\n",
    "print()\n",
    "print(\"---NOT---\")\n",
    "z = (c!=3)\n",
    "print(z)"
   ]
  },
  {
   "cell_type": "markdown",
   "id": "95ab6d1c",
   "metadata": {},
   "source": [
    "# 3. Make a list of each Boolean operator's truth tables (i.e. every possible combination of Boolean values for the operator and what it evaluate )."
   ]
  },
  {
   "cell_type": "code",
   "execution_count": 3,
   "id": "85fc460b",
   "metadata": {},
   "outputs": [],
   "source": [
    "#    FOR AND OPERATOR    FOR OR OPERATOR      FOR NOT OPERATOR\n",
    "\n",
    "#    A   B   RESULT       A   B   RESULT        A   RESULT\n",
    "                      \n",
    "#    T   T     T          F   F     F           T     F\n",
    "#    F   F     F          T   T     T           F     T\n",
    "#    F   F     F          T   T     T\n",
    "#    F   F     F          T   T     T"
   ]
  },
  {
   "cell_type": "markdown",
   "id": "67970692",
   "metadata": {},
   "source": [
    "# 4. What are the values of the following expressions?"
   ]
  },
  {
   "cell_type": "code",
   "execution_count": 4,
   "id": "f03f54a9",
   "metadata": {},
   "outputs": [
    {
     "name": "stdout",
     "output_type": "stream",
     "text": [
      "False\n",
      "True\n",
      "False\n",
      "False\n",
      "True\n"
     ]
    }
   ],
   "source": [
    "#1. (5 > 4) and (3 == 5) ---> False\n",
    "a = (5 > 4) and (3 == 5)\n",
    "print(a)\n",
    "\n",
    "#2. (5 > 4) or (3 == 5) ---> True\n",
    "b = (5 > 4) or (3 == 5)\n",
    "print(b)\n",
    "\n",
    "#3. not ((5 > 4) or (3 == 5)) ---> False\n",
    "c = not ((5 > 4) or (3 == 5))\n",
    "print(c)\n",
    "\n",
    "#4. (True and True) and (True == False) ---> False\n",
    "d = (True and True) and (True == False)\n",
    "print(d)\n",
    "\n",
    "#5. (not False) or (not True) ---> True\n",
    "e = (not False) or (not True)\n",
    "print(e)"
   ]
  },
  {
   "cell_type": "markdown",
   "id": "c0cb5756",
   "metadata": {},
   "source": [
    "# 5. What are the six comparison operators?\n",
    "\n",
    "1. Equal to (==) : To check the values are equal, if equal return True if not returns False\n",
    "\n",
    "2. Not Equal to (!=) : Opposite to Equal to operator\n",
    "\n",
    "3. Greater than (>) : To check the value is greater, if Greater return True if not returns False\n",
    "\n",
    "4. Less than (<) : Opposite to Greater than operator\n",
    "\n",
    "5. Greater than or equal to (>=) : To check the value is greater than or equal to, if Greater than equal to return True\n",
    "   if not returns False\n",
    "   \n",
    "6. Less than or equal to (<=) : To check the value is Less than or equal to, if Less than equal to return True\n",
    "   if not returns False   "
   ]
  },
  {
   "cell_type": "markdown",
   "id": "00a4d51e",
   "metadata": {},
   "source": [
    "# 6. How do you tell the difference between the equal to and assignment operators?Describe a condition and when you would use one.\n",
    "\n",
    "Equal to (==) : Equal to operator is basically used to check the values are equal or not \n",
    "                If they are equal then it returns True if not then it return False.\n",
    "\n",
    "Assignment (=) : Assignment operator is basically used to assign some value to the variable\n",
    "                "
   ]
  },
  {
   "cell_type": "code",
   "execution_count": 5,
   "id": "85647e80",
   "metadata": {},
   "outputs": [
    {
     "name": "stdout",
     "output_type": "stream",
     "text": [
      "Both are equal\n"
     ]
    }
   ],
   "source": [
    "x = 5 # Here we assign the 5 value to the varible x (Assignment Operator)\n",
    "y = 5\n",
    "if x == y: # Equal to operator\n",
    "    print(\"Both are equal\")\n",
    "else:\n",
    "    print(\"not\")"
   ]
  },
  {
   "cell_type": "markdown",
   "id": "94c1ac94",
   "metadata": {},
   "source": [
    "# 7. Identify the three blocks in this code:"
   ]
  },
  {
   "cell_type": "code",
   "execution_count": 6,
   "id": "c23fdc52",
   "metadata": {},
   "outputs": [
    {
     "name": "stdout",
     "output_type": "stream",
     "text": [
      "ham\n",
      "spam\n",
      "spam\n"
     ]
    }
   ],
   "source": [
    "# BLOCK 1...\n",
    "spam = 0\n",
    "if spam == 10:\n",
    "    print('eggs')\n",
    "\n",
    "# BLOCK 2...    \n",
    "if spam > 5:\n",
    "    print('bacon')\n",
    "else:\n",
    "    print('ham')\n",
    "\n",
    "# BLOCK 3...    \n",
    "print('spam')\n",
    "print('spam')"
   ]
  },
  {
   "cell_type": "markdown",
   "id": "b113c02e",
   "metadata": {},
   "source": [
    "# 8. Write code that prints Hello if 1 is stored in spam, prints Howdy if 2 is stored in spam, and prints Greetings! if anything else is stored in spam."
   ]
  },
  {
   "cell_type": "code",
   "execution_count": 7,
   "id": "49f5b05e",
   "metadata": {},
   "outputs": [
    {
     "name": "stdout",
     "output_type": "stream",
     "text": [
      "Enter any Number store in spam : 5\n",
      "Greetings!\n"
     ]
    }
   ],
   "source": [
    "spam = int(input(\"Enter any Number store in spam : \"))\n",
    "if spam == 1:\n",
    "    print(\"Hello\")\n",
    "elif spam == 2:\n",
    "    print(\"Howdy\")\n",
    "else:\n",
    "    print(\"Greetings!\")"
   ]
  },
  {
   "cell_type": "markdown",
   "id": "83a6f289",
   "metadata": {},
   "source": [
    "# 9.If your programme is stuck in an endless loop, what keys you’ll press?\n",
    "\n",
    "---> 1. Ctrl + C\n",
    "\n",
    "---> 2. Ctrl + Break"
   ]
  },
  {
   "cell_type": "markdown",
   "id": "f391ab8d",
   "metadata": {},
   "source": [
    "# 10. How can you tell the difference between break and continue?\n",
    "\n",
    "BREAK : \n",
    "Break statement is generally used to exit from the loop\n",
    "\n",
    "CONTINUE :\n",
    "It is used to skip the current iteration and move to the next iteration"
   ]
  },
  {
   "cell_type": "code",
   "execution_count": 8,
   "id": "8d1ac3e2",
   "metadata": {},
   "outputs": [
    {
     "name": "stdout",
     "output_type": "stream",
     "text": [
      "5\n"
     ]
    }
   ],
   "source": [
    "i = 0\n",
    "while True:\n",
    "    if i + 1 < 5:\n",
    "        i = i+1\n",
    "        continue\n",
    "    print(i+1)\n",
    "    break"
   ]
  },
  {
   "cell_type": "markdown",
   "id": "77a39b24",
   "metadata": {},
   "source": [
    "# 11. In a for loop, what is the difference between range(10), range(0, 10), and range(0, 10, 1)?\n",
    "\n",
    "range(10) : In this range Function, There is only one parameter is taken so by Default the numbers are starts from the 0 \n",
    "up to 9 because 10 is here Exluding\n",
    "\n",
    "range(0,10) : Now here, There are 2 parameters are passes first is including and second is excluding\n",
    "\n",
    "range(0,10,1) : Now here , There are 3 parameters are passes it starts from 0 (including) and up to 9 because 10 in Exluding \n",
    "and the third parameter decides the gap or step size between the Numbers"
   ]
  },
  {
   "cell_type": "code",
   "execution_count": 9,
   "id": "1cd393d7",
   "metadata": {},
   "outputs": [
    {
     "name": "stdout",
     "output_type": "stream",
     "text": [
      "------range(10)------\n",
      "0 1 2 3 4 5 6 7 8 9 \n",
      "-----range(0,10)-----\n",
      "0 1 2 3 4 5 6 7 8 9 \n",
      "-----range(0,10,1)-----\n",
      "0 1 2 3 4 5 6 7 8 9 "
     ]
    }
   ],
   "source": [
    "print(\"------range(10)------\")\n",
    "for i in range(10):\n",
    "    print(i,end=\" \")\n",
    "print(\"\\n-----range(0,10)-----\")  \n",
    "for i in range(0,10):\n",
    "    print(i,end=\" \")\n",
    "print(\"\\n-----range(0,10,1)-----\")  \n",
    "for i in range(0,10,1):\n",
    "    print(i,end=\" \")"
   ]
  },
  {
   "cell_type": "markdown",
   "id": "f0ef275a",
   "metadata": {},
   "source": [
    "# 12. Write a short program that prints the numbers 1 to 10 using a for loop.Then write an equivalent program that prints the numbers 1 to 10 using a while loop."
   ]
  },
  {
   "cell_type": "code",
   "execution_count": 10,
   "id": "545a6ae8",
   "metadata": {},
   "outputs": [
    {
     "name": "stdout",
     "output_type": "stream",
     "text": [
      "----- USING FOR LOOP -----\n",
      "1 2 3 4 5 6 7 8 9 10 \n",
      "----- USING WHILE LOOP -----\n",
      "1 2 3 4 5 6 7 8 9 10 "
     ]
    }
   ],
   "source": [
    "print(\"----- USING FOR LOOP -----\")\n",
    "for i in range(1,11):\n",
    "    print(i,end=\" \")\n",
    "print(\"\\n----- USING WHILE LOOP -----\")\n",
    "n = 1\n",
    "while(n<11):\n",
    "    print(n,end=\" \")\n",
    "    n = n+1"
   ]
  },
  {
   "cell_type": "markdown",
   "id": "5834c821",
   "metadata": {},
   "source": [
    "# 13. If you had a function named bacon() inside a module named spam, how would you call it after importing spam?"
   ]
  },
  {
   "cell_type": "code",
   "execution_count": 13,
   "id": "0c4c481d",
   "metadata": {},
   "outputs": [
    {
     "name": "stdout",
     "output_type": "stream",
     "text": [
      "Calling bacon function by importing spam...\n",
      "Calling bacon function by importing spam...\n"
     ]
    }
   ],
   "source": [
    "# def bacon():\n",
    "#     print(\"Calling bacon function by importing spam...\")\n",
    "# bacon() \n",
    "# Creating this Function in another .py file and importing spam\n",
    "\n",
    "import spam\n",
    "spam.bacon()"
   ]
  },
  {
   "cell_type": "code",
   "execution_count": null,
   "id": "fcc2d604",
   "metadata": {},
   "outputs": [],
   "source": []
  }
 ],
 "metadata": {
  "kernelspec": {
   "display_name": "Python 3 (ipykernel)",
   "language": "python",
   "name": "python3"
  },
  "language_info": {
   "codemirror_mode": {
    "name": "ipython",
    "version": 3
   },
   "file_extension": ".py",
   "mimetype": "text/x-python",
   "name": "python",
   "nbconvert_exporter": "python",
   "pygments_lexer": "ipython3",
   "version": "3.9.13"
  }
 },
 "nbformat": 4,
 "nbformat_minor": 5
}
